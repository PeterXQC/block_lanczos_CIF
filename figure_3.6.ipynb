{
 "cells": [
  {
   "cell_type": "code",
   "execution_count": 1,
   "metadata": {
    "execution": {
     "iopub.execute_input": "2023-04-09T05:47:35.779588Z",
     "iopub.status.busy": "2023-04-09T05:47:35.779474Z",
     "iopub.status.idle": "2023-04-09T05:47:36.133894Z",
     "shell.execute_reply": "2023-04-09T05:47:36.133452Z"
    }
   },
   "outputs": [],
   "source": [
    "from block_methods import *\n",
    "import numpy as np\n",
    "import scipy as sp\n",
    "import matplotlib.pyplot as plt\n",
    "import matplotlib as mpl\n",
    "from matplotlib import ticker, cm\n",
    "import matplotlib.colors as colors\n",
    "from scipy import integrate,io\n",
    "\n",
    "%load_ext autoreload\n",
    "%autoreload 2"
   ]
  },
  {
   "cell_type": "code",
   "execution_count": 2,
   "metadata": {
    "execution": {
     "iopub.execute_input": "2023-04-09T05:47:36.135740Z",
     "iopub.status.busy": "2023-04-09T05:47:36.135580Z",
     "iopub.status.idle": "2023-04-09T05:47:36.144560Z",
     "shell.execute_reply": "2023-04-09T05:47:36.144235Z"
    }
   },
   "outputs": [],
   "source": [
    "plt.rc('text', usetex=True)\n",
    "plt.rc('font', family='serif')\n",
    "plt.rcParams[\"axes.prop_cycle\"] = plt.cycler(\"color\", plt.cm.viridis([0, 0.6, 0.8]))"
   ]
  },
  {
   "cell_type": "code",
   "execution_count": 3,
   "metadata": {
    "execution": {
     "iopub.execute_input": "2023-04-09T05:47:36.145807Z",
     "iopub.status.busy": "2023-04-09T05:47:36.145694Z",
     "iopub.status.idle": "2023-04-09T05:47:40.667245Z",
     "shell.execute_reply": "2023-04-09T05:47:40.666831Z"
    }
   },
   "outputs": [],
   "source": [
    "# set up matrix\n",
    "Q = sp.io.mmread('matrices/figure_3.6.mtx')\n",
    "del1 = np.matrix('0 0 1 0; 0 0 0 1; 1 0 0 0; 0 1 0 0')\n",
    "P_tilde = np.kron(del1, np.eye(3))\n",
    "P = np.kron(np.eye(np.shape(Q)[0]//12), P_tilde)\n",
    "\n",
    "A = P@(np.eye(np.shape(Q)[0])-4/3*0.20611*Q)\n",
    "\n",
    "Λ = np.linalg.eigvalsh(A)"
   ]
  },
  {
   "cell_type": "code",
   "execution_count": 4,
   "metadata": {
    "execution": {
     "iopub.execute_input": "2023-04-09T05:47:40.668909Z",
     "iopub.status.busy": "2023-04-09T05:47:40.668792Z",
     "iopub.status.idle": "2023-04-09T05:47:40.679376Z",
     "shell.execute_reply": "2023-04-09T05:47:40.679042Z"
    }
   },
   "outputs": [],
   "source": [
    "b = [1, 2, 4, 8] # block size\n",
    "step = 5\n",
    "thresh = 1e-8\n",
    "\n",
    "H = sp.sparse.spdiags(Λ,0,len(Λ),len(Λ))\n",
    "λmin = np.min(Λ)\n",
    "λmax = np.max(Λ)\n",
    "\n",
    "n = len(Λ)\n",
    "\n",
    "K = [1750, 1000, 575, 325]\n",
    "w = 0\n",
    "\n",
    "def f(x, a = w):\n",
    "#     m is magnitude, default 1. \n",
    "#     s is shift, default 0.\n",
    "    return (np.sign(x-a)+1)/2\n",
    "\n",
    "angles = 0.5*np.pi # angle for D contour\n",
    "r = 2*(λmax) # radius for D contour\n",
    "lim = 10\n",
    "np.random.seed(0)\n",
    "\n",
    "hnorm = get_hnorm(Λ,lambda x: np.ones_like(x))"
   ]
  },
  {
   "cell_type": "code",
   "execution_count": 5,
   "metadata": {
    "execution": {
     "iopub.execute_input": "2023-04-09T05:47:40.680707Z",
     "iopub.status.busy": "2023-04-09T05:47:40.680473Z",
     "iopub.status.idle": "2023-04-09T05:54:06.900163Z",
     "shell.execute_reply": "2023-04-09T05:54:06.899780Z"
    }
   },
   "outputs": [
    {
     "name": "stderr",
     "output_type": "stream",
     "text": [
      "/src/notebooks/block_lanczos_CIF/block_methods/block_methods.py:391: IntegrationWarning: The maximum number of subdivisions (50) has been achieved.\n",
      "  If increasing the limit yields no improvement it is advised to analyze \n",
      "  the integrand in order to determine the difficulties.  If the position of a \n",
      "  local difficulty can be determined (singularity, discontinuity) one will \n",
      "  probably gain from splitting up the interval and calling the integrator \n",
      "  on the subranges.  Perhaps a special-purpose integrator should be used.\n",
      "  result += sp.integrate.quad(a_posteriori_bound_integrand, 0, 1, args=(Γl, angle, r, Eval, Evec, b, B_0, λmin, f, c, w, λmax), points = pts)[0]\n",
      "/src/notebooks/block_lanczos_CIF/block_methods/block_methods.py:390: IntegrationWarning: The maximum number of subdivisions (50) has been achieved.\n",
      "  If increasing the limit yields no improvement it is advised to analyze \n",
      "  the integrand in order to determine the difficulties.  If the position of a \n",
      "  local difficulty can be determined (singularity, discontinuity) one will \n",
      "  probably gain from splitting up the interval and calling the integrator \n",
      "  on the subranges.  Perhaps a special-purpose integrator should be used.\n",
      "  result = sp.integrate.quad(a_posteriori_bound_integrand,0, angle, args=(Γ, angle, r, Eval, Evec, b, B_0, λmin, f, c, w, λmax))[0]\n"
     ]
    }
   ],
   "source": [
    "error_FAr = []\n",
    "error_wLSr = []\n",
    "error_absr = []\n",
    "error_fullr = []\n",
    "Kir = []\n",
    "\n",
    "for i in range(len(b)):\n",
    "   \n",
    "    V = np.random.randn(n,b[i])\n",
    "    # run Lanczos\n",
    "    Q,Qkp1,A,B,B_0 = block_lanczos(H, V, K[i], K[i]+1)\n",
    "\n",
    "    # generate tridiagonal matrix\n",
    "    T = get_block_tridiag(A,B)\n",
    "    \n",
    "    orthTest(Q, b[i], K[i], thresh)\n",
    "    threeTermTest(H, Q, T, Qkp1, B, b[i], K[i], thresh)\n",
    "\n",
    "    fAV = np.diag(f(Λ))@V\n",
    "    \n",
    "    error_FA = np.full(10,np.nan)\n",
    "    error_wLS = np.full(10,np.nan)\n",
    "    error_abs = np.full(10,np.nan)\n",
    "    error_full = np.full(10,np.nan)\n",
    "    Ki = np.linspace(1, K[i]-1, 10, dtype = int)\n",
    "\n",
    "    for j,k in enumerate(Ki): \n",
    "\n",
    "        T = get_block_tridiag(A[:k],B[:k])\n",
    "        Eval,Evec = np.linalg.eigh(T)\n",
    "\n",
    "        error_wLS[j] = hnorm((1/(Λ-w))[:,None]*V - get_lan_wLS(Eval, Evec, b[i], B_0, w, Q, k))\n",
    "\n",
    "        lanf = get_lanf(Eval, Evec, b[i], B_0, f, Q, k)\n",
    "        error_FA[j] = hnorm(fAV - lanf)\n",
    "        \n",
    "        pts = np.logspace(-15, -1, lim)\n",
    "        error_abs[j] = get_trig_ineq_bound(pts, angles, r, Eval, Evec, b[i], B_0, λmin, f, w, Λ, V, Q, k, hnorm)\n",
    "        error_full[j] = get_a_posteriori_bound(pts, angles, r, Eval, Evec, b[i], B_0, λmin, f, w, w, λmax) \n",
    "        \n",
    "    error_FAr.append(error_FA)\n",
    "    error_wLSr.append(error_wLS)\n",
    "    error_absr.append(error_abs)\n",
    "    error_fullr.append(error_full)\n",
    "    Kir.append(Ki)"
   ]
  },
  {
   "cell_type": "code",
   "execution_count": 6,
   "metadata": {
    "execution": {
     "iopub.execute_input": "2023-04-09T05:54:06.901854Z",
     "iopub.status.busy": "2023-04-09T05:54:06.901734Z",
     "iopub.status.idle": "2023-04-09T05:54:06.911493Z",
     "shell.execute_reply": "2023-04-09T05:54:06.911157Z"
    }
   },
   "outputs": [],
   "source": [
    "np.save(\"data/figure_3.6/error_FAr\", error_FAr)\n",
    "np.save(\"data/figure_3.6/error_wLSr\", error_wLSr)\n",
    "np.save(\"data/figure_3.6/error_absr\", error_absr)\n",
    "np.save(\"data/figure_3.6/error_fullr\", error_fullr)"
   ]
  },
  {
   "cell_type": "markdown",
   "metadata": {},
   "source": [
    "# Uncomment the cell below to generate figures directly from data. "
   ]
  },
  {
   "cell_type": "code",
   "execution_count": 7,
   "metadata": {
    "execution": {
     "iopub.execute_input": "2023-04-09T05:54:06.913040Z",
     "iopub.status.busy": "2023-04-09T05:54:06.912923Z",
     "iopub.status.idle": "2023-04-09T05:54:06.920247Z",
     "shell.execute_reply": "2023-04-09T05:54:06.919921Z"
    }
   },
   "outputs": [],
   "source": [
    "# error_FAr = np.load(\"data/figure_3.6/error_FAr.npy\",allow_pickle=True)\n",
    "# error_wLSr = np.load(\"data/figure_3.6/error_wLSr.npy\",allow_pickle=True)\n",
    "# error_absr = np.load(\"data/figure_3.6/error_absr.npy\",allow_pickle=True)\n",
    "# error_fullr = np.load(\"data/figure_3.6/error_fullr.npy\",allow_pickle=True)"
   ]
  },
  {
   "cell_type": "code",
   "execution_count": 8,
   "metadata": {
    "execution": {
     "iopub.execute_input": "2023-04-09T05:54:06.921682Z",
     "iopub.status.busy": "2023-04-09T05:54:06.921570Z",
     "iopub.status.idle": "2023-04-09T05:54:07.539256Z",
     "shell.execute_reply": "2023-04-09T05:54:07.538843Z"
    }
   },
   "outputs": [
    {
     "data": {
      "image/png": "[encoded data removed]",
      "text/plain": [
       "<Figure size 900x350 with 4 Axes>"
      ]
     },
     "metadata": {},
     "output_type": "display_data"
    }
   ],
   "source": [
    "fig, axes = plt.subplots(1,4, figsize=(9,3.5), sharey = True)\n",
    "plt.subplots_adjust(wspace=.1, hspace=.1,bottom=0.25)\n",
    "\n",
    "for i in np.arange(4):\n",
    "        axes[i].plot(Kir[i],error_FAr[i], ls='None', ms=4, marker = 's', label = 'Lanczos-FA error')\n",
    "        axes[i].plot(Kir[i],error_absr[i], ls='None', ms=4, marker = 'd', label = 'triangle inequality')\n",
    "        axes[i].plot(Kir[i],error_fullr[i]*error_wLSr[i], ls='None', ms=4, marker = 'o', label = 'computable bound')\n",
    "        handles, labels = axes[i].get_legend_handles_labels()\n",
    "        plt.yscale('log')\n",
    "        axes[i].text(.95,.95,\"$b = $ \" + str(b[i]),ha='right', va='top', transform=axes[i].transAxes,bbox=dict(facecolor='white',edgecolor='none',pad=2))\n",
    "        axes[i].set_xlabel('Iteration')\n",
    "        axes[i].set_xticks([0, K[i]//2, K[i]])\n",
    "\n",
    "axes[0].set_ylabel('Error')\n",
    "\n",
    "plt.figlegend(handles, labels, loc='lower center', bbox_to_anchor=(0.5,0),ncol=4)\n",
    "\n",
    "plt.savefig(\"imgs/figure_3.6.pdf\")"
   ]
  },
  {
   "cell_type": "code",
   "execution_count": null,
   "metadata": {},
   "outputs": [],
   "source": []
  }
 ],
 "metadata": {
  "kernelspec": {
   "display_name": "Python 3 (ipykernel)",
   "language": "python",
   "name": "python3"
  },
  "language_info": {
   "codemirror_mode": {
    "name": "ipython",
    "version": 3
   },
   "file_extension": ".py",
   "mimetype": "text/x-python",
   "name": "python",
   "nbconvert_exporter": "python",
   "pygments_lexer": "ipython3",
   "version": "3.8.16"
  }
 },
 "nbformat": 4,
 "nbformat_minor": 4
}
