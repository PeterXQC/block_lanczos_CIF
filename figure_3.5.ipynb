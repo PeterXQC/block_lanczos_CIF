{
 "cells": [
  {
   "cell_type": "code",
   "execution_count": 1,
   "metadata": {
    "tags": []
   },
   "outputs": [],
   "source": [
    "from block_methods import *\n",
    "import numpy as np\n",
    "import scipy as sp\n",
    "import matplotlib.pyplot as plt\n",
    "import matplotlib as mpl\n",
    "from matplotlib import ticker, cm\n",
    "import matplotlib.colors as colors\n",
    "from scipy import integrate\n",
    "\n",
    "%load_ext autoreload\n",
    "%autoreload 2"
   ]
  },
  {
   "cell_type": "code",
   "execution_count": 2,
   "metadata": {
    "tags": []
   },
   "outputs": [],
   "source": [
    "plt.rc('text', usetex=True)\n",
    "plt.rc('font', family='serif')\n",
    "plt.rcParams[\"axes.prop_cycle\"] = plt.cycler(\"color\", plt.cm.viridis([0, 0.6, 0.8]))"
   ]
  },
  {
   "cell_type": "code",
   "execution_count": 3,
   "metadata": {
    "tags": []
   },
   "outputs": [],
   "source": [
    "n = 1000 # matrix dimension\n",
    "b = 4 # block size\n",
    "step = 5\n",
    "thresh = 1e-8\n",
    "\n",
    "# set up matrix\n",
    "Λ = np.linspace(1e-2,1,n)\n",
    "H = np.diag(Λ)\n",
    "\n",
    "λmin = np.min(Λ)\n",
    "λmax = np.max(Λ)\n",
    "\n",
    "f = lambda x: np.sqrt(x)\n",
    "\n",
    "K = 30 # max iter\n",
    "w = 0\n",
    "\n",
    "angles = (1-np.linspace(0.01,.99,30))*np.pi # angle for D contour\n",
    "r = np.linspace(1.01,1.15,25) # radius for D contour\n",
    "lim = 10\n",
    "np.random.seed(0)\n",
    "\n",
    "hnorm = get_hnorm(Λ, lambda Λ: Λ-w)"
   ]
  },
  {
   "cell_type": "code",
   "execution_count": 4,
   "metadata": {
    "tags": []
   },
   "outputs": [],
   "source": [
    "error_FAr = []\n",
    "error_wLSr = []\n",
    "error_absr = []\n",
    "error_fullr = []\n",
    "\n",
    "V = np.random.randn(n,b)\n",
    "\n",
    "# run Lanczos\n",
    "Q,Qkp1,A,B,B_0 = block_lanczos(H, V, K, K+1)\n",
    "\n",
    "# generate tridiagonal matrix\n",
    "T = get_block_tridiag(A,B)\n",
    "\n",
    "orthTest(Q, b, K, thresh)\n",
    "threeTermTest(H, Q, T, Qkp1, B, b, K, thresh)\n",
    "\n",
    "fAV = np.diag(f(Λ))@V\n",
    "\n",
    "T = get_block_tridiag(A[:K],B[:K])\n",
    "Eval,Evec = np.linalg.eigh(T)\n",
    "\n",
    "error_wLS = hnorm(np.diag(1/(Λ-w))@V - get_lan_wLS(Eval, Evec, b, B_0, w, Q, K))\n",
    "\n",
    "lanf = Q[:,:b*K]@(Evec@np.diag(f(Eval))@Evec.T@Ei(b*K,b,1)@B_0)\n",
    "error_FA = hnorm(fAV - lanf)\n",
    "    \n",
    "error_abs = np.zeros((len(r),len(angles)))\n",
    "error_full = np.zeros((len(r),len(angles)))\n",
    "\n",
    "for i in range(len(r)):\n",
    "    for l in range(len(angles)):\n",
    "        \n",
    "        pts = np.logspace(-15, -1, lim)\n",
    "        error_abs[i,l] = get_trig_ineq_bound(pts, angles[l], r[i], Eval, Evec, b, B_0, λmin, f, λmin/100, Λ, V, Q, K, hnorm)\n",
    "        error_full[i,l] = get_a_posteriori_bound(pts, angles[l], r[i], Eval, Evec, b, B_0, λmin, f, λmin/100, w, λmax)"
   ]
  },
  {
   "cell_type": "code",
   "execution_count": 5,
   "metadata": {
    "execution": {
     "iopub.execute_input": "2023-04-09T05:47:30.716366Z",
     "iopub.status.busy": "2023-04-09T05:47:30.716246Z",
     "iopub.status.idle": "2023-04-09T05:47:30.725237Z",
     "shell.execute_reply": "2023-04-09T05:47:30.724896Z"
    }
   },
   "outputs": [],
   "source": [
    "np.save(\"data/figure_3.5/error_abs\", error_abs)\n",
    "np.save(\"data/figure_3.5/error_full\", error_full)"
   ]
  },
  {
   "cell_type": "markdown",
   "metadata": {},
   "source": [
    "# Uncomment the cell below to generate figures directly from data. "
   ]
  },
  {
   "cell_type": "code",
   "execution_count": 5,
   "metadata": {
    "tags": []
   },
   "outputs": [],
   "source": [
    "error_abs=np.load(\"data/figure_3.5/error_abs.npy\")\n",
    "error_full=np.load(\"data/figure_3.5/error_full.npy\")"
   ]
  },
  {
   "cell_type": "code",
   "execution_count": 6,
   "metadata": {
    "tags": []
   },
   "outputs": [
    {
     "data": {
      "image/png": "[encoded data removed]",
      "text/plain": [
       "<Figure size 648x216 with 3 Axes>"
      ]
     },
     "metadata": {
      "needs_background": "light"
     },
     "output_type": "display_data"
    }
   ],
   "source": [
    "fig,axes = plt.subplots(1,2,figsize=(9,3),subplot_kw={'projection': 'polar'})\n",
    "\n",
    "axes[0].grid(False)\n",
    "axes[1].grid(False)\n",
    "\n",
    "\n",
    "\n",
    "im = axes[0].pcolormesh(angles,r,error_abs/error_FA,norm=colors.LogNorm(vmin=1e0,vmax=1e7),rasterized=True)\n",
    "axes[1].pcolormesh(angles,r,error_full/error_FA,norm=colors.LogNorm(vmin=1e0,vmax=1e7),rasterized=True)\n",
    "axes[0].text(.5,.1,f'triangle inequality',ha='center', va='top', transform=axes[0].transAxes,bbox=dict(facecolor='white',edgecolor='none',pad=2))\n",
    "axes[1].text(.5,.1,f'computable bound',ha='center', va='top', transform=axes[1].transAxes,bbox=dict(facecolor='white',edgecolor='none',pad=2))\n",
    "axes[0].grid(True,color='k',lw=.3)\n",
    "axes[1].grid(True,color='k',lw=.3)\n",
    "\n",
    "for i in range(2):\n",
    "    axes[i].set_yticks([1.01,1.08,1.15])\n",
    "    axes[i].set_yticklabels([1.01,1.08,1.15])\n",
    "\n",
    "    axes[i].set_thetamin(0)\n",
    "    axes[i].set_thetamax(180)\n",
    "    \n",
    "    axes[i].set_rlim(min(r),max(r))\n",
    "    axes[i].set_rorigin(min(r)*.9)\n",
    "    \n",
    "    axes[i].set_xticks([0,np.pi/4,np.pi/2,3*np.pi/4,np.pi])\n",
    "    axes[i].set_xticklabels([0,'$\\pi/4$','$\\pi/2$','$3\\pi/4$','$\\pi$'])\n",
    "\n",
    "plt.colorbar(im,ax=axes.ravel().tolist(),shrink=.9,pad=0.08)\n",
    "\n",
    "plt.savefig(\"imgs/figure_3.5.pdf\",dpi=300)"
   ]
  },
  {
   "cell_type": "code",
   "execution_count": null,
   "metadata": {},
   "outputs": [],
   "source": []
  }
 ],
 "metadata": {
  "kernelspec": {
   "display_name": "Python 3 (ipykernel)",
   "language": "python",
   "name": "python3"
  },
  "language_info": {
   "codemirror_mode": {
    "name": "ipython",
    "version": 3
   },
   "file_extension": ".py",
   "mimetype": "text/x-python",
   "name": "python",
   "nbconvert_exporter": "python",
   "pygments_lexer": "ipython3",
   "version": "3.9.12"
  }
 },
 "nbformat": 4,
 "nbformat_minor": 4
}
