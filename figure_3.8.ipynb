{
 "cells": [
  {
   "cell_type": "code",
   "execution_count": 1,
   "metadata": {
    "execution": {
     "iopub.execute_input": "2023-04-09T05:54:44.075999Z",
     "iopub.status.busy": "2023-04-09T05:54:44.075825Z",
     "iopub.status.idle": "2023-04-09T05:54:44.420642Z",
     "shell.execute_reply": "2023-04-09T05:54:44.420241Z"
    }
   },
   "outputs": [],
   "source": [
    "from block_methods import *\n",
    "import numpy as np\n",
    "import scipy as sp\n",
    "import matplotlib.pyplot as plt\n",
    "import matplotlib as mpl\n",
    "from matplotlib import ticker, cm\n",
    "import matplotlib.colors as colors\n",
    "from scipy import integrate\n",
    "\n",
    "%load_ext autoreload\n",
    "%autoreload 2"
   ]
  },
  {
   "cell_type": "code",
   "execution_count": 2,
   "metadata": {
    "execution": {
     "iopub.execute_input": "2023-04-09T05:54:44.422361Z",
     "iopub.status.busy": "2023-04-09T05:54:44.422189Z",
     "iopub.status.idle": "2023-04-09T05:54:44.430949Z",
     "shell.execute_reply": "2023-04-09T05:54:44.430626Z"
    }
   },
   "outputs": [],
   "source": [
    "plt.rc('text', usetex=True)\n",
    "plt.rc('font', family='serif')\n",
    "plt.rcParams[\"axes.prop_cycle\"] = plt.cycler(\"color\", plt.cm.viridis([0, 0.6, 0.8]))"
   ]
  },
  {
   "cell_type": "code",
   "execution_count": 3,
   "metadata": {
    "execution": {
     "iopub.execute_input": "2023-04-09T05:54:44.432316Z",
     "iopub.status.busy": "2023-04-09T05:54:44.432194Z",
     "iopub.status.idle": "2023-04-09T05:54:44.442739Z",
     "shell.execute_reply": "2023-04-09T05:54:44.442384Z"
    }
   },
   "outputs": [],
   "source": [
    "n = 500 # matrix dimension\n",
    "b = 4 # block size\n",
    "step = 5\n",
    "thresh = 1e-4\n",
    "\n",
    "# set up matrix\n",
    "λ1 = 1e-3\n",
    "λn = 1\n",
    "ρ=0.9\n",
    "Λ = λ1+np.arange(n)/(n-1)*(λn-λ1)*ρ**(n-(np.arange(n)+1))\n",
    "H = np.diag(Λ)\n",
    "\n",
    "λmin = np.min(Λ)\n",
    "λmax = np.max(Λ)\n",
    "\n",
    "f = lambda x: 1/np.sqrt(x)\n",
    "\n",
    "Kros = [(30,31),(60,0)] # max iter\n",
    "w = λmin/100\n",
    "\n",
    "angle = .99*np.pi # angle for D contour\n",
    "r = 2 # radius for D contour\n",
    "lim = 10\n",
    "np.random.seed(0)\n",
    "\n",
    "hnorm = get_hnorm(Λ, lambda Λ: Λ-w)"
   ]
  },
  {
   "cell_type": "code",
   "execution_count": 4,
   "metadata": {
    "execution": {
     "iopub.execute_input": "2023-04-09T05:54:44.444164Z",
     "iopub.status.busy": "2023-04-09T05:54:44.444046Z",
     "iopub.status.idle": "2023-04-09T05:55:19.603057Z",
     "shell.execute_reply": "2023-04-09T05:55:19.602597Z"
    }
   },
   "outputs": [
    {
     "name": "stderr",
     "output_type": "stream",
     "text": [
      "/src/notebooks/block_lanczos_CIF/block_methods/block_methods.py:391: IntegrationWarning: The maximum number of subdivisions (50) has been achieved.\n",
      "  If increasing the limit yields no improvement it is advised to analyze \n",
      "  the integrand in order to determine the difficulties.  If the position of a \n",
      "  local difficulty can be determined (singularity, discontinuity) one will \n",
      "  probably gain from splitting up the interval and calling the integrator \n",
      "  on the subranges.  Perhaps a special-purpose integrator should be used.\n",
      "  result += sp.integrate.quad(a_posteriori_bound_integrand, 0, 1, args=(Γl, angle, r, Eval, Evec, b, B_0, λmin, f, c, w, λmax), points = pts)[0]\n",
      "/src/notebooks/block_lanczos_CIF/block_methods/block_methods.py:390: IntegrationWarning: The maximum number of subdivisions (50) has been achieved.\n",
      "  If increasing the limit yields no improvement it is advised to analyze \n",
      "  the integrand in order to determine the difficulties.  If the position of a \n",
      "  local difficulty can be determined (singularity, discontinuity) one will \n",
      "  probably gain from splitting up the interval and calling the integrator \n",
      "  on the subranges.  Perhaps a special-purpose integrator should be used.\n",
      "  result = sp.integrate.quad(a_posteriori_bound_integrand,0, angle, args=(Γ, angle, r, Eval, Evec, b, B_0, λmin, f, c, w, λmax))[0]\n"
     ]
    }
   ],
   "source": [
    "error_FAr = []\n",
    "error_wLSr = []\n",
    "error_absr = []\n",
    "error_fullr = []\n",
    "\n",
    "V = np.random.randn(n,b)\n",
    "\n",
    "for K,reorth in Kros:\n",
    "\n",
    "    # run Lanczos\n",
    "    Q,Qkp1,A,B,B_0 = block_lanczos(H, V, K, reorth)\n",
    "\n",
    "    # generate tridiagonal matrix\n",
    "    T = get_block_tridiag(A,B)\n",
    "\n",
    "    fAV = np.diag(f(Λ))@V\n",
    "\n",
    "    error_FA = np.full(K,np.nan)\n",
    "    error_wLS = np.full(K,np.nan)\n",
    "    error_abs = np.full(K,np.nan)\n",
    "    error_full = np.full(K,np.nan)\n",
    "    \n",
    "    for k in range(1,K): \n",
    "\n",
    "        T = get_block_tridiag(A[:k],B[:k])\n",
    "        Eval,Evec = np.linalg.eigh(T)\n",
    "\n",
    "        error_wLS[k] = hnorm(np.diag(1/(Λ-w))@V - get_lan_wLS(Eval, Evec, b, B_0, w, Q, k))\n",
    "\n",
    "        lanf = Q[:,:b*k]@(Evec@np.diag(f(Eval))@Evec.T@Ei(b*k,b,1)@B_0)\n",
    "        error_FA[k] = hnorm(fAV - lanf)\n",
    "        \n",
    "        pts = np.logspace(-15, -1, lim)\n",
    "\n",
    "        error_abs[k] = get_trig_ineq_bound(pts, angle, r, Eval, Evec, b, B_0, λmin, f, w, Λ, V, Q, k, hnorm)\n",
    "        error_full[k] = get_a_posteriori_bound(pts, angle, r, Eval, Evec, b, B_0, λmin, f, w, w, λmax)\n",
    "\n",
    "    error_FAr.append(error_FA)\n",
    "    error_wLSr.append(error_wLS)\n",
    "    error_absr.append(error_abs)\n",
    "    error_fullr.append(error_full)"
   ]
  },
  {
   "cell_type": "code",
   "execution_count": 5,
   "metadata": {
    "execution": {
     "iopub.execute_input": "2023-04-09T05:55:19.604693Z",
     "iopub.status.busy": "2023-04-09T05:55:19.604572Z",
     "iopub.status.idle": "2023-04-09T05:55:19.843017Z",
     "shell.execute_reply": "2023-04-09T05:55:19.842657Z"
    }
   },
   "outputs": [
    {
     "ename": "ValueError",
     "evalue": "setting an array element with a sequence. The requested array has an inhomogeneous shape after 1 dimensions. The detected shape was (2,) + inhomogeneous part.",
     "output_type": "error",
     "traceback": [
      "\u001b[0;31m---------------------------------------------------------------------------\u001b[0m",
      "\u001b[0;31mValueError\u001b[0m                                Traceback (most recent call last)",
      "Cell \u001b[0;32mIn[5], line 1\u001b[0m\n\u001b[0;32m----> 1\u001b[0m \u001b[43mnp\u001b[49m\u001b[38;5;241;43m.\u001b[39;49m\u001b[43msave\u001b[49m\u001b[43m(\u001b[49m\u001b[38;5;124;43m\"\u001b[39;49m\u001b[38;5;124;43mdata/figure_3.8/error_FAr_fp\u001b[39;49m\u001b[38;5;124;43m\"\u001b[39;49m\u001b[43m,\u001b[49m\u001b[43m \u001b[49m\u001b[43merror_FAr\u001b[49m\u001b[43m)\u001b[49m\n\u001b[1;32m      2\u001b[0m np\u001b[38;5;241m.\u001b[39msave(\u001b[38;5;124m\"\u001b[39m\u001b[38;5;124mdata/figure_3.8/error_wLSr_fp\u001b[39m\u001b[38;5;124m\"\u001b[39m, error_wLSr)\n\u001b[1;32m      3\u001b[0m np\u001b[38;5;241m.\u001b[39msave(\u001b[38;5;124m\"\u001b[39m\u001b[38;5;124mdata/figure_3.8/error_absr_fp\u001b[39m\u001b[38;5;124m\"\u001b[39m, error_absr)\n",
      "File \u001b[0;32m<__array_function__ internals>:200\u001b[0m, in \u001b[0;36msave\u001b[0;34m(*args, **kwargs)\u001b[0m\n",
      "File \u001b[0;32m/opt/conda/envs/new/lib/python3.8/site-packages/numpy/lib/npyio.py:521\u001b[0m, in \u001b[0;36msave\u001b[0;34m(file, arr, allow_pickle, fix_imports)\u001b[0m\n\u001b[1;32m    518\u001b[0m     file_ctx \u001b[38;5;241m=\u001b[39m \u001b[38;5;28mopen\u001b[39m(file, \u001b[38;5;124m\"\u001b[39m\u001b[38;5;124mwb\u001b[39m\u001b[38;5;124m\"\u001b[39m)\n\u001b[1;32m    520\u001b[0m \u001b[38;5;28;01mwith\u001b[39;00m file_ctx \u001b[38;5;28;01mas\u001b[39;00m fid:\n\u001b[0;32m--> 521\u001b[0m     arr \u001b[38;5;241m=\u001b[39m \u001b[43mnp\u001b[49m\u001b[38;5;241;43m.\u001b[39;49m\u001b[43masanyarray\u001b[49m\u001b[43m(\u001b[49m\u001b[43marr\u001b[49m\u001b[43m)\u001b[49m\n\u001b[1;32m    522\u001b[0m     \u001b[38;5;28mformat\u001b[39m\u001b[38;5;241m.\u001b[39mwrite_array(fid, arr, allow_pickle\u001b[38;5;241m=\u001b[39mallow_pickle,\n\u001b[1;32m    523\u001b[0m                        pickle_kwargs\u001b[38;5;241m=\u001b[39m\u001b[38;5;28mdict\u001b[39m(fix_imports\u001b[38;5;241m=\u001b[39mfix_imports))\n",
      "\u001b[0;31mValueError\u001b[0m: setting an array element with a sequence. The requested array has an inhomogeneous shape after 1 dimensions. The detected shape was (2,) + inhomogeneous part."
     ]
    }
   ],
   "source": [
    "np.save(\"data/figure_3.8/error_FAr_fp\", error_FAr)\n",
    "np.save(\"data/figure_3.8/error_wLSr_fp\", error_wLSr)\n",
    "np.save(\"data/figure_3.8/error_absr_fp\", error_absr)\n",
    "np.save(\"data/figure_3.8/error_fullr_fp\", error_fullr)"
   ]
  },
  {
   "cell_type": "markdown",
   "metadata": {},
   "source": [
    "# Uncomment the cell below to generate figures directly from data. "
   ]
  },
  {
   "cell_type": "code",
   "execution_count": 6,
   "metadata": {
    "execution": {
     "iopub.execute_input": "2023-04-09T05:55:19.844377Z",
     "iopub.status.busy": "2023-04-09T05:55:19.844261Z",
     "iopub.status.idle": "2023-04-09T05:55:19.852319Z",
     "shell.execute_reply": "2023-04-09T05:55:19.851997Z"
    }
   },
   "outputs": [],
   "source": [
    "# error_FAr = np.load(\"data/figure_3.8/error_FAr_fp.npy\",allow_pickle=True)\n",
    "# error_wLSr = np.load(\"data/figure_3.8/error_wLSr_fp.npy\",allow_pickle=True)\n",
    "# error_absr = np.load(\"data/figure_3.8/error_absr_fp.npy\",allow_pickle=True)\n",
    "# error_fullr = np.load(\"data/figure_3.8/error_fullr_fp.npy\",allow_pickle=True)"
   ]
  },
  {
   "cell_type": "code",
   "execution_count": 7,
   "metadata": {
    "execution": {
     "iopub.execute_input": "2023-04-09T05:55:19.853747Z",
     "iopub.status.busy": "2023-04-09T05:55:19.853593Z",
     "iopub.status.idle": "2023-04-09T05:55:20.432022Z",
     "shell.execute_reply": "2023-04-09T05:55:20.431609Z"
    }
   },
   "outputs": [
    {
     "data": {
      "image/png": "[encoded data removed]",
      "text/plain": [
       "<Figure size 900x350 with 2 Axes>"
      ]
     },
     "metadata": {},
     "output_type": "display_data"
    }
   ],
   "source": [
    "fig, axes = plt.subplots(1,2, figsize=(9,3.5), sharey = True)\n",
    "fig.subplots_adjust(wspace=.3,bottom=0.25)\n",
    "\n",
    "for i in range(2):\n",
    "    axes[i].plot(error_FAr[i], ls='None', ms=4, marker = 's', label = 'block-Lanczos-FA error')\n",
    "    axes[i].plot(error_absr[i],ls='None', ms=4, marker = 'd', label = 'triangle inequality')\n",
    "    axes[i].plot(error_fullr[i]*error_wLSr[i],ls='None' , ms=4, marker = 'o', label = 'computable bound')\n",
    "        \n",
    "        \n",
    "    axes[i].set_yscale('log')\n",
    "    axes[i].set_xlabel('Iteration')\n",
    "    \n",
    "    axes[i].set_ylim(1e-13,1e4)\n",
    "    \n",
    "axes[0].set_ylabel('Error')\n",
    "axes[0].text(.95,.95,'reorth',ha='right', va='top', transform=axes[0].transAxes,bbox=dict(facecolor='white',edgecolor='none',pad=2))\n",
    "axes[1].text(.95,.95,'no reorth',ha='right', va='top', transform=axes[1].transAxes,bbox=dict(facecolor='white',edgecolor='none',pad=2))\n",
    "\n",
    "handles, labels = axes[0].get_legend_handles_labels()\n",
    "plt.figlegend(handles, labels, loc='lower center', bbox_to_anchor=(0.5, 0),ncol=3)\n",
    "\n",
    "plt.savefig(\"imgs/figure_3.8.pdf\")"
   ]
  },
  {
   "cell_type": "code",
   "execution_count": null,
   "metadata": {},
   "outputs": [],
   "source": []
  }
 ],
 "metadata": {
  "kernelspec": {
   "display_name": "Python 3 (ipykernel)",
   "language": "python",
   "name": "python3"
  },
  "language_info": {
   "codemirror_mode": {
    "name": "ipython",
    "version": 3
   },
   "file_extension": ".py",
   "mimetype": "text/x-python",
   "name": "python",
   "nbconvert_exporter": "python",
   "pygments_lexer": "ipython3",
   "version": "3.8.16"
  },
  "vscode": {
   "interpreter": {
    "hash": "37c9868d6774fc0b561b8ede12979fc2be83ed360e000cad9847bb76a88294f2"
   }
  }
 },
 "nbformat": 4,
 "nbformat_minor": 4
}
