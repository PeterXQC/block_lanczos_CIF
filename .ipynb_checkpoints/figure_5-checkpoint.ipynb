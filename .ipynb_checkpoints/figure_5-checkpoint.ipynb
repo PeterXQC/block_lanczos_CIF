{
 "cells": [
  {
   "cell_type": "code",
   "execution_count": 1,
   "metadata": {},
   "outputs": [],
   "source": [
    "from block_methods import *\n",
    "import numpy as np\n",
    "import scipy as sp\n",
    "import matplotlib.pyplot as plt\n",
    "import matplotlib as mpl\n",
    "from matplotlib import ticker, cm\n",
    "import matplotlib.colors as colors\n",
    "from scipy import integrate\n",
    "\n",
    "%load_ext autoreload\n",
    "%autoreload 2"
   ]
  },
  {
   "cell_type": "code",
   "execution_count": 2,
   "metadata": {},
   "outputs": [],
   "source": [
    "plt.rc('text', usetex=True)\n",
    "plt.rc('font', family='serif')"
   ]
  },
  {
   "cell_type": "code",
   "execution_count": 3,
   "metadata": {},
   "outputs": [],
   "source": [
    "n = 1000 # matrix dimension\n",
    "b = 4 # block size\n",
    "step = 5\n",
    "thresh = 1e-8\n",
    "\n",
    "# set up matrix\n",
    "Λ = np.linspace(1e-2,1,n)\n",
    "H = np.diag(Λ)\n",
    "\n",
    "λmin = np.min(Λ)\n",
    "λmax = np.max(Λ)\n",
    "\n",
    "f = lambda x: np.sqrt(x)\n",
    "\n",
    "K = 30 # max iter\n",
    "w = 0\n",
    "\n",
    "angles = np.linspace(0.01,.99,30)*np.pi # angle for D contour\n",
    "r = np.linspace(1.01,1.15,25) # radius for D contour\n",
    "lim = 10\n",
    "np.random.seed(0)"
   ]
  },
  {
   "cell_type": "code",
   "execution_count": 4,
   "metadata": {},
   "outputs": [
    {
     "name": "stderr",
     "output_type": "stream",
     "text": [
      "/tmp/ipykernel_1198/1001024525.py:41: IntegrationWarning: The maximum number of subdivisions (50) has been achieved.\n",
      "  If increasing the limit yields no improvement it is advised to analyze \n",
      "  the integrand in order to determine the difficulties.  If the position of a \n",
      "  local difficulty can be determined (singularity, discontinuity) one will \n",
      "  probably gain from splitting up the interval and calling the integrator \n",
      "  on the subranges.  Perhaps a special-purpose integrator should be used.\n",
      "  error_abs[i,l] += sp.integrate.quad(F_abs, 0, 1, args=(Γl, angles[l], r[i], Eval, Evec, b, B_0, λmin, f, Λ, V, Q, K), points = pts)[0]\n",
      "/tmp/ipykernel_1198/1001024525.py:42: IntegrationWarning: The maximum number of subdivisions (50) has been achieved.\n",
      "  If increasing the limit yields no improvement it is advised to analyze \n",
      "  the integrand in order to determine the difficulties.  If the position of a \n",
      "  local difficulty can be determined (singularity, discontinuity) one will \n",
      "  probably gain from splitting up the interval and calling the integrator \n",
      "  on the subranges.  Perhaps a special-purpose integrator should be used.\n",
      "  error_full[i,l] += sp.integrate.quad(F_full, 0, 1, args=(Γl, angles[l], r[i], Eval, Evec, b, B_0, λmin, f, w, λmax), points = pts)[0]\n"
     ]
    }
   ],
   "source": [
    "error_FAr = []\n",
    "error_wLSr = []\n",
    "error_absr = []\n",
    "error_fullr = []\n",
    "\n",
    "V = np.random.randn(n,b)\n",
    "\n",
    "# run Lanczos\n",
    "Q,Qkp1,A,B,B_0 = block_lanczos(H, V, K, K+1)\n",
    "\n",
    "# generate tridiagonal matrix\n",
    "T = get_block_tridiag(A,B)\n",
    "\n",
    "orthTest(Q, b, K, thresh)\n",
    "threeTermTest(H, Q, T, Qkp1, B, b, K, thresh)\n",
    "\n",
    "fAV = np.diag(f(Λ))@V\n",
    "\n",
    "T = get_block_tridiag(A[:K],B[:K])\n",
    "Eval,Evec = np.linalg.eigh(T)\n",
    "\n",
    "lan_wLS = Q[:,:b*K]@(Evec@np.diag(1/(Eval-w))@Evec.T@Ei(b*K,b,1)@B_0)\n",
    "\n",
    "e = np.diag(1/(Λ-w))@V - lan_wLS\n",
    "error_wLS = np.linalg.norm(np.diag(np.sqrt(Λ-w))@e)\n",
    "\n",
    "lanf = Q[:,:b*K]@(Evec@np.diag(f(Eval))@Evec.T@Ei(b*K,b,1)@B_0)\n",
    "e = fAV - lanf\n",
    "error_FA = np.linalg.norm(np.diag(np.sqrt(Λ-w))@e)\n",
    "    \n",
    "error_abs = np.zeros((len(r),len(angles)))\n",
    "error_full = np.zeros((len(r),len(angles)))\n",
    "\n",
    "for i in range(len(r)):\n",
    "    for l in range(len(angles)):\n",
    "        \n",
    "        error_abs[i,l] = sp.integrate.quad(F_abs, 0, angles[l], args=(Γ, angles[l], r[i], Eval, Evec, b, B_0, λmin, f, Λ, V, Q, K))[0]\n",
    "        error_full[i,l] = sp.integrate.quad(F_full,0, angles[l], args=(Γ, angles[l], r[i], Eval, Evec, b, B_0, λmin, f, w, λmax))[0]\n",
    "\n",
    "        pts = np.logspace(-15, -1, lim)\n",
    "        error_abs[i,l] += sp.integrate.quad(F_abs, 0, 1, args=(Γl, angles[l], r[i], Eval, Evec, b, B_0, λmin, f, Λ, V, Q, K), points = pts)[0]\n",
    "        error_full[i,l] += sp.integrate.quad(F_full, 0, 1, args=(Γl, angles[l], r[i], Eval, Evec, b, B_0, λmin, f, w, λmax), points = pts)[0]\n",
    "\n",
    "        error_abs[i,l] /= np.pi\n",
    "        error_full[i,l] /= np.pi"
   ]
  },
  {
   "cell_type": "code",
   "execution_count": 5,
   "metadata": {},
   "outputs": [],
   "source": [
    "np.save(\"data/figure_5/error_abs\", error_abs)\n",
    "np.save(\"data/figure_5/error_full\", error_full)"
   ]
  },
  {
   "cell_type": "code",
   "execution_count": 6,
   "metadata": {},
   "outputs": [],
   "source": [
    "np.save(\"data/figure_5/error_abs\", error_abs)\n",
    "np.save(\"data/figure_5/error_full\", error_full)"
   ]
  },
  {
   "cell_type": "code",
   "execution_count": 8,
   "metadata": {},
   "outputs": [
    {
     "name": "stderr",
     "output_type": "stream",
     "text": [
      "/tmp/ipykernel_1198/1063950091.py:3: MatplotlibDeprecationWarning: Auto-removal of grids by pcolor() and pcolormesh() is deprecated since 3.5 and will be removed two minor releases later; please call grid(False) first.\n",
      "  im = axes[0].pcolormesh(np.pi-angles,(r-1)*20+1,error_abs/error_FA,norm=colors.LogNorm(vmin=1e0,vmax=1e7),rasterized=True)\n",
      "/tmp/ipykernel_1198/1063950091.py:4: MatplotlibDeprecationWarning: Auto-removal of grids by pcolor() and pcolormesh() is deprecated since 3.5 and will be removed two minor releases later; please call grid(False) first.\n",
      "  axes[1].pcolormesh(np.pi-angles,(r-1)*20+1,error_full/error_FA,norm=colors.LogNorm(vmin=1e0,vmax=1e7),rasterized=True)\n"
     ]
    },
    {
     "data": {
      "image/png": "[encoded data removed]",
      "text/plain": [
       "<Figure size 900x300 with 3 Axes>"
      ]
     },
     "metadata": {},
     "output_type": "display_data"
    }
   ],
   "source": [
    "fig,axes = plt.subplots(1,2,figsize=(9,3),subplot_kw={'projection': 'polar'})\n",
    "\n",
    "im = axes[0].pcolormesh(np.pi-angles,(r-1)*20+1,error_abs/error_FA,norm=colors.LogNorm(vmin=1e0,vmax=1e7),rasterized=True)\n",
    "axes[1].pcolormesh(np.pi-angles,(r-1)*20+1,error_full/error_FA,norm=colors.LogNorm(vmin=1e0,vmax=1e7),rasterized=True)\n",
    "axes[0].text(.5,.1,f'triangle inequality',ha='center', va='top', transform=axes[0].transAxes,bbox=dict(facecolor='white',edgecolor='none',pad=2))\n",
    "axes[1].text(.5,.1,f'computable bound',ha='center', va='top', transform=axes[1].transAxes,bbox=dict(facecolor='white',edgecolor='none',pad=2))\n",
    "\n",
    "\n",
    "for i in range(2):\n",
    "    axes[i].set_yticks((np.array([1,1.05,1.1])-1)*20+1)\n",
    "    axes[i].set_yticklabels([1,1.05,1.1])\n",
    "\n",
    "    axes[i].set_thetamin(0)\n",
    "    axes[i].set_thetamax(180)\n",
    "    \n",
    "    axes[i].set_xticks([0,np.pi/4,np.pi/2,3*np.pi/4,np.pi])\n",
    "    axes[i].set_xticklabels([0,'$\\pi/4$','$\\pi/2$','$3\\pi/4$','$\\pi$'])\n",
    "\n",
    "plt.colorbar(im,ax=axes.ravel().tolist(),shrink=.9,pad=0.08)\n",
    "\n",
    "plt.savefig(\"imgs/figure_5.pdf\")"
   ]
  },
  {
   "cell_type": "code",
   "execution_count": null,
   "metadata": {},
   "outputs": [],
   "source": []
  }
 ],
 "metadata": {
  "kernelspec": {
   "display_name": "Python 3 (ipykernel)",
   "language": "python",
   "name": "python3"
  },
  "language_info": {
   "codemirror_mode": {
    "name": "ipython",
    "version": 3
   },
   "file_extension": ".py",
   "mimetype": "text/x-python",
   "name": "python",
   "nbconvert_exporter": "python",
   "pygments_lexer": "ipython3",
   "version": "3.9.13"
  }
 },
 "nbformat": 4,
 "nbformat_minor": 4
}
