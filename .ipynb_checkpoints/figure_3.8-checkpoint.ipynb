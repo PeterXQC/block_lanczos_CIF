{
 "cells": [
  {
   "cell_type": "code",
   "execution_count": 1,
   "metadata": {},
   "outputs": [],
   "source": [
    "from block_methods import *\n",
    "import numpy as np\n",
    "import scipy as sp\n",
    "import matplotlib.pyplot as plt\n",
    "import matplotlib as mpl\n",
    "from matplotlib import ticker, cm\n",
    "import matplotlib.colors as colors\n",
    "from scipy import integrate\n",
    "\n",
    "%load_ext autoreload\n",
    "%autoreload 2"
   ]
  },
  {
   "cell_type": "code",
   "execution_count": 2,
   "metadata": {},
   "outputs": [],
   "source": [
    "plt.rc('text', usetex=True)\n",
    "plt.rc('font', family='serif')\n",
    "plt.rcParams[\"axes.prop_cycle\"] = plt.cycler(\"color\", plt.cm.viridis([0, 0.6, 0.8]))"
   ]
  },
  {
   "cell_type": "code",
   "execution_count": 3,
   "metadata": {},
   "outputs": [],
   "source": [
    "n = 500 # matrix dimension\n",
    "b = 4 # block size\n",
    "step = 5\n",
    "thresh = 1e-4\n",
    "\n",
    "# set up matrix\n",
    "λ1 = 1e-3\n",
    "λn = 1\n",
    "ρ=0.9\n",
    "Λ = λ1+np.arange(n)/(n-1)*(λn-λ1)*ρ**(n-(np.arange(n)+1))\n",
    "H = np.diag(Λ)\n",
    "\n",
    "λmin = np.min(Λ)\n",
    "λmax = np.max(Λ)\n",
    "\n",
    "f = lambda x: 1/np.sqrt(x)\n",
    "\n",
    "Kros = [(30,31),(60,0)] # max iter\n",
    "w = λmin/100\n",
    "\n",
    "angle = .99*np.pi # angle for D contour\n",
    "r = 2 # radius for D contour\n",
    "lim = 10\n",
    "np.random.seed(0)"
   ]
  },
  {
   "cell_type": "code",
   "execution_count": 4,
   "metadata": {},
   "outputs": [
    {
     "name": "stderr",
     "output_type": "stream",
     "text": [
      "/src/notebooks/block_lanczos_CIF/block_methods/block_methods.py:292: IntegrationWarning: The maximum number of subdivisions (50) has been achieved.\n",
      "  If increasing the limit yields no improvement it is advised to analyze \n",
      "  the integrand in order to determine the difficulties.  If the position of a \n",
      "  local difficulty can be determined (singularity, discontinuity) one will \n",
      "  probably gain from splitting up the interval and calling the integrator \n",
      "  on the subranges.  Perhaps a special-purpose integrator should be used.\n",
      "  result += sp.integrate.quad(a_posteriori_bound_integrand, 0, 1, args=(Γl, angle, r, Eval, Evec, b, B_0, λmin, f, w, λmax), points = pts)[0]\n",
      "/src/notebooks/block_lanczos_CIF/block_methods/block_methods.py:291: IntegrationWarning: The maximum number of subdivisions (50) has been achieved.\n",
      "  If increasing the limit yields no improvement it is advised to analyze \n",
      "  the integrand in order to determine the difficulties.  If the position of a \n",
      "  local difficulty can be determined (singularity, discontinuity) one will \n",
      "  probably gain from splitting up the interval and calling the integrator \n",
      "  on the subranges.  Perhaps a special-purpose integrator should be used.\n",
      "  result = sp.integrate.quad(a_posteriori_bound_integrand,0, angle, args=(Γ, angle, r, Eval, Evec, b, B_0, λmin, f, w, λmax))[0]\n"
     ]
    }
   ],
   "source": [
    "error_FAr = []\n",
    "error_wLSr = []\n",
    "error_absr = []\n",
    "error_fullr = []\n",
    "\n",
    "V = np.random.randn(n,b)\n",
    "\n",
    "for K,reorth in Kros:\n",
    "\n",
    "    # run Lanczos\n",
    "    Q,Qkp1,A,B,B_0 = block_lanczos(H, V, K, reorth)\n",
    "\n",
    "    # generate tridiagonal matrix\n",
    "    T = get_block_tridiag(A,B)\n",
    "\n",
    "    fAV = np.diag(f(Λ))@V\n",
    "\n",
    "    error_FA = np.full(K,np.nan)\n",
    "    error_wLS = np.full(K,np.nan)\n",
    "    error_abs = np.full(K,np.nan)\n",
    "    error_full = np.full(K,np.nan)\n",
    "    \n",
    "    for k in range(1,K): \n",
    "\n",
    "        T = get_block_tridiag(A[:k],B[:k])\n",
    "        Eval,Evec = np.linalg.eigh(T)\n",
    "\n",
    "        lan_wLS = Q[:,:b*k]@(Evec@np.diag(1/(Eval-w))@Evec.T@Ei(b*k,b,1)@B_0)\n",
    "\n",
    "        e = np.diag(1/(Λ-w))@V - lan_wLS\n",
    "        error_wLS[k] = np.linalg.norm(np.diag(np.sqrt(Λ-w))@e)\n",
    "\n",
    "        lanf = Q[:,:b*k]@(Evec@np.diag(f(Eval))@Evec.T@Ei(b*k,b,1)@B_0)\n",
    "        e = fAV - lanf\n",
    "        error_FA[k] = np.linalg.norm(np.diag(np.sqrt(Λ-w))@e)\n",
    "        \n",
    "        pts = np.logspace(-15, -1, lim)\n",
    "\n",
    "        error_abs[k] = get_trig_ineq_bound(pts, angle, r, Eval, Evec, b, B_0, λmin, f, Λ, V, Q, k)\n",
    "        error_full[k] = get_a_posteriori_bound(pts, angle, r, Eval, Evec, b, B_0, λmin, f, w, λmax)\n",
    "\n",
    "    error_FAr.append(error_FA)\n",
    "    error_wLSr.append(error_wLS)\n",
    "    error_absr.append(error_abs)\n",
    "    error_fullr.append(error_full)"
   ]
  },
  {
   "cell_type": "code",
   "execution_count": 5,
   "metadata": {},
   "outputs": [
    {
     "name": "stderr",
     "output_type": "stream",
     "text": [
      "/opt/conda/lib/python3.9/site-packages/numpy/lib/npyio.py:528: VisibleDeprecationWarning: Creating an ndarray from ragged nested sequences (which is a list-or-tuple of lists-or-tuples-or ndarrays with different lengths or shapes) is deprecated. If you meant to do this, you must specify 'dtype=object' when creating the ndarray.\n",
      "  arr = np.asanyarray(arr)\n"
     ]
    }
   ],
   "source": [
    "np.save(\"data/figure_6/error_FAr_fp\", error_FAr)\n",
    "np.save(\"data/figure_6/error_wLSr_fp\", error_wLSr)\n",
    "np.save(\"data/figure_6/error_absr_fp\", error_absr)\n",
    "np.save(\"data/figure_6/error_fullr_fp\", error_fullr)"
   ]
  },
  {
   "cell_type": "code",
   "execution_count": 6,
   "metadata": {},
   "outputs": [],
   "source": [
    "error_FAr = np.load(\"data/figure_6/error_FAr_fp.npy\",allow_pickle=True)\n",
    "error_wLSr = np.load(\"data/figure_6/error_wLSr_fp.npy\",allow_pickle=True)\n",
    "error_absr = np.load(\"data/figure_6/error_absr_fp.npy\",allow_pickle=True)\n",
    "error_fullr = np.load(\"data/figure_6/error_fullr_fp.npy\",allow_pickle=True)"
   ]
  },
  {
   "cell_type": "code",
   "execution_count": 7,
   "metadata": {},
   "outputs": [
    {
     "data": {
      "image/png": "[encoded data removed]",
      "text/plain": [
       "<Figure size 900x350 with 2 Axes>"
      ]
     },
     "metadata": {},
     "output_type": "display_data"
    }
   ],
   "source": [
    "fig, axes = plt.subplots(1,2, figsize=(9,3.5), sharey = True)\n",
    "fig.subplots_adjust(wspace=.3,bottom=0.25)\n",
    "\n",
    "for i in range(2):\n",
    "    axes[i].plot(error_FAr[i], ls='None', ms=4, marker = 'o', label = 'block-Lanczos-FA error')\n",
    "    axes[i].plot(error_absr[i],ls='None', ms=4, marker = 'd', label = 'triangle inequality')\n",
    "    axes[i].plot(error_fullr[i]*error_wLSr[i],ls='None' , ms=4, marker = 's', label = 'computable bound')\n",
    "        \n",
    "        \n",
    "    axes[i].set_yscale('log')\n",
    "    axes[i].set_xlabel('Iteration')\n",
    "    \n",
    "    axes[i].set_ylim(1e-13,1e4)\n",
    "    \n",
    "axes[0].set_ylabel('Error')\n",
    "axes[0].text(.95,.95,'reorth',ha='right', va='top', transform=axes[0].transAxes,bbox=dict(facecolor='white',edgecolor='none',pad=2))\n",
    "axes[1].text(.95,.95,'no reorth',ha='right', va='top', transform=axes[1].transAxes,bbox=dict(facecolor='white',edgecolor='none',pad=2))\n",
    "\n",
    "handles, labels = axes[0].get_legend_handles_labels()\n",
    "plt.figlegend(handles, labels, loc='lower center', bbox_to_anchor=(0.5, 0),ncol=3)\n",
    "\n",
    "plt.savefig(\"imgs/figure_6.pdf\")"
   ]
  },
  {
   "cell_type": "code",
   "execution_count": null,
   "metadata": {},
   "outputs": [],
   "source": []
  }
 ],
 "metadata": {
  "kernelspec": {
   "display_name": "Python 3 (ipykernel)",
   "language": "python",
   "name": "python3"
  },
  "language_info": {
   "codemirror_mode": {
    "name": "ipython",
    "version": 3
   },
   "file_extension": ".py",
   "mimetype": "text/x-python",
   "name": "python",
   "nbconvert_exporter": "python",
   "pygments_lexer": "ipython3",
   "version": "3.9.13"
  },
  "vscode": {
   "interpreter": {
    "hash": "37c9868d6774fc0b561b8ede12979fc2be83ed360e000cad9847bb76a88294f2"
   }
  }
 },
 "nbformat": 4,
 "nbformat_minor": 4
}
