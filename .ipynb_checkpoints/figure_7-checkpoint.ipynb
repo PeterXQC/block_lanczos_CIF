{
 "cells": [
  {
   "cell_type": "code",
   "execution_count": 1,
   "metadata": {},
   "outputs": [],
   "source": [
    "from block_methods import *\n",
    "import numpy as np\n",
    "import scipy as sp\n",
    "import matplotlib.pyplot as plt\n",
    "import matplotlib as mpl\n",
    "from matplotlib import ticker, cm\n",
    "import matplotlib.colors as colors\n",
    "from scipy import integrate\n",
    "\n",
    "%load_ext autoreload\n",
    "%autoreload 2"
   ]
  },
  {
   "cell_type": "code",
   "execution_count": 2,
   "metadata": {},
   "outputs": [],
   "source": [
    "plt.rc('text', usetex=True)\n",
    "plt.rc('font', family='serif')\n",
    "plt.rcParams[\"axes.prop_cycle\"] = plt.cycler(\"color\", plt.cm.viridis([0, 0.6, 0.8]))"
   ]
  },
  {
   "cell_type": "code",
   "execution_count": 3,
   "metadata": {},
   "outputs": [
    {
     "ename": "FileNotFoundError",
     "evalue": "[Errno 2] No such file or directory: 'diag.npy'",
     "output_type": "error",
     "traceback": [
      "\u001b[0;31m---------------------------------------------------------------------------\u001b[0m",
      "\u001b[0;31mFileNotFoundError\u001b[0m                         Traceback (most recent call last)",
      "\u001b[0;32m/tmp/ipykernel_1663/3879848126.py\u001b[0m in \u001b[0;36m<module>\u001b[0;34m\u001b[0m\n\u001b[1;32m      4\u001b[0m \u001b[0;34m\u001b[0m\u001b[0m\n\u001b[1;32m      5\u001b[0m \u001b[0;31m# set up matrix\u001b[0m\u001b[0;34m\u001b[0m\u001b[0;34m\u001b[0m\u001b[0m\n\u001b[0;32m----> 6\u001b[0;31m \u001b[0mΛ\u001b[0m \u001b[0;34m=\u001b[0m \u001b[0mnp\u001b[0m\u001b[0;34m.\u001b[0m\u001b[0mload\u001b[0m\u001b[0;34m(\u001b[0m\u001b[0;34m\"diag.npy\"\u001b[0m\u001b[0;34m)\u001b[0m\u001b[0;34m\u001b[0m\u001b[0;34m\u001b[0m\u001b[0m\n\u001b[0m\u001b[1;32m      7\u001b[0m \u001b[0mH\u001b[0m \u001b[0;34m=\u001b[0m \u001b[0mnp\u001b[0m\u001b[0;34m.\u001b[0m\u001b[0mdiag\u001b[0m\u001b[0;34m(\u001b[0m\u001b[0mΛ\u001b[0m\u001b[0;34m)\u001b[0m\u001b[0;34m\u001b[0m\u001b[0;34m\u001b[0m\u001b[0m\n\u001b[1;32m      8\u001b[0m \u001b[0;34m\u001b[0m\u001b[0m\n",
      "\u001b[0;32m/opt/conda/lib/python3.9/site-packages/numpy/lib/npyio.py\u001b[0m in \u001b[0;36mload\u001b[0;34m(file, mmap_mode, allow_pickle, fix_imports, encoding)\u001b[0m\n\u001b[1;32m    415\u001b[0m             \u001b[0mown_fid\u001b[0m \u001b[0;34m=\u001b[0m \u001b[0;32mFalse\u001b[0m\u001b[0;34m\u001b[0m\u001b[0;34m\u001b[0m\u001b[0m\n\u001b[1;32m    416\u001b[0m         \u001b[0;32melse\u001b[0m\u001b[0;34m:\u001b[0m\u001b[0;34m\u001b[0m\u001b[0;34m\u001b[0m\u001b[0m\n\u001b[0;32m--> 417\u001b[0;31m             \u001b[0mfid\u001b[0m \u001b[0;34m=\u001b[0m \u001b[0mstack\u001b[0m\u001b[0;34m.\u001b[0m\u001b[0menter_context\u001b[0m\u001b[0;34m(\u001b[0m\u001b[0mopen\u001b[0m\u001b[0;34m(\u001b[0m\u001b[0mos_fspath\u001b[0m\u001b[0;34m(\u001b[0m\u001b[0mfile\u001b[0m\u001b[0;34m)\u001b[0m\u001b[0;34m,\u001b[0m \u001b[0;34m\"rb\"\u001b[0m\u001b[0;34m)\u001b[0m\u001b[0;34m)\u001b[0m\u001b[0;34m\u001b[0m\u001b[0;34m\u001b[0m\u001b[0m\n\u001b[0m\u001b[1;32m    418\u001b[0m             \u001b[0mown_fid\u001b[0m \u001b[0;34m=\u001b[0m \u001b[0;32mTrue\u001b[0m\u001b[0;34m\u001b[0m\u001b[0;34m\u001b[0m\u001b[0m\n\u001b[1;32m    419\u001b[0m \u001b[0;34m\u001b[0m\u001b[0m\n",
      "\u001b[0;31mFileNotFoundError\u001b[0m: [Errno 2] No such file or directory: 'diag.npy'"
     ]
    }
   ],
   "source": [
    "b = [1, 2, 4, 8] # block size\n",
    "step = 5\n",
    "thresh = 1e-8\n",
    "\n",
    "# set up matrix\n",
    "Q = sp.iommread('data/figure_7.mtx')\n",
    "del1 = np.matrix('0 0 1 0; 0 0 0 1; 1 0 0 0; 0 1 0 0')\n",
    "P_tilde = np.kron(del1, np.eye(3))\n",
    "P = np.kron(np.eye(np.shape(Q)[0]//12), P_tilde)\n",
    "\n",
    "A = P@(np.eye(np.shape(Q)[0])-4/3*0.20611*Q)\n",
    "\n",
    "Λ = np.linalg.eigvalsh(A)\n",
    "H = np.diag(Λ)\n",
    "\n",
    "λmin = np.min(Λ)\n",
    "λmax = np.max(Λ)\n",
    "\n",
    "def f(x, a = w):\n",
    "#     m is magnitude, default 1. \n",
    "#     s is shift, default 0.\n",
    "    return (np.sign(x-a)+1)/2\n",
    "\n",
    "n = len(Λ)\n",
    "\n",
    "K = [1750, 1000, 575, 325]\n",
    "w = 0\n",
    "\n",
    "angles = 0.5*np.pi # angle for D contour\n",
    "r = 2*(λmax) # radius for D contour\n",
    "lim = 10\n",
    "np.random.seed(0)"
   ]
  },
  {
   "cell_type": "code",
   "execution_count": null,
   "metadata": {},
   "outputs": [],
   "source": [
    "error_FAr = []\n",
    "error_wLSr = []\n",
    "error_absr = []\n",
    "error_fullr = []\n",
    "\n",
    "for i in range(len(b)):\n",
    "    V = np.random.randn(n,b[i])\n",
    "    # run Lanczos\n",
    "    Q,Qkp1,A,B,B_0 = block_lanczos(H, V, K[i], K[i]+1)\n",
    "\n",
    "    # generate tridiagonal matrix\n",
    "    T = get_block_tridiag(A,B)\n",
    "    \n",
    "    orthTest(Q, b[i], K[i])\n",
    "    threeTermTest(H, Q, T, Qkp1, B, b[i], K[i])\n",
    "\n",
    "    fAV = np.diag(f(Λ))@V\n",
    "    \n",
    "    error_FA = np.full(K[i],np.nan)\n",
    "    error_wLS = np.full(K[i],np.nan)\n",
    "    error_abs = np.full(K[i],np.nan)\n",
    "    error_full = np.full(K[i],np.nan)\n",
    "\n",
    "    for k in np.linspace(1, K[i]-1, 10, dtype = int): \n",
    "\n",
    "        T = get_block_tridiag(A[:k],B[:k])\n",
    "        Eval,Evec = np.linalg.eigh(T)\n",
    "\n",
    "        lan_wLS = Q[:,:b[i]*k]@(Evec@np.diag(1/(Eval-w))@Evec.T@Ei(b[i]*k,b[i],1)@B_0)\n",
    "\n",
    "        error_wLS[k] = np.linalg.norm(np.diag(1/(Λ-w))@V - lan_wLS)\n",
    "\n",
    "        lanf = Q[:,:b[i]*k]@(Evec@np.diag(f(Eval))@Evec.T@Ei(b[i]*k,b[i],1)@B_0)\n",
    "        error_FA[k] = np.linalg.norm(fAV - lanf)\n",
    "\n",
    "        error_abs[k] = sp.integrate.quad(F_abs, 0, angles, args=(Γ, angles[l], r[i], Eval, Evec, b, B_0, λmin, f, Λ, V, Q, k))[0]\n",
    "        error_full[k] = sp.integrate.quad(F_full,0, angles, args=(Γ, angles[l], r[i], Eval, Evec, b, B_0, λmin, f, w, λmax))[0]\n",
    "\n",
    "        pts = np.logspace(-15, -1, lim)\n",
    "        error_abs[k] += sp.integrate.quad(F_abs, 0, 1, args=(Γl, angles[l], r[i], Eval, Evec, b, B_0, λmin, f, Λ, V, Q, k), points = pts)[0]\n",
    "        error_full[k] += sp.integrate.quad(F_full, 0, 1, args=(Γl, angles[l], r[i], Eval, Evec, b, B_0, λmin, f, w, λmax), points = pts)[0]\n",
    "\n",
    "        error_abs[k] /= np.pi\n",
    "        error_full[k] /= np.pi\n",
    "\n",
    "    error_FAr.append(error_FA)\n",
    "    error_wLSr.append(error_wLS)\n",
    "    error_absr.append(error_abs)\n",
    "    error_fullr.append(error_full)"
   ]
  },
  {
   "cell_type": "code",
   "execution_count": null,
   "metadata": {},
   "outputs": [],
   "source": [
    "np.save(\"data/figure_7/error_FAr\", error_FAr)\n",
    "np.save(\"data/figure_7/error_wLSr\", error_wLSr)\n",
    "np.save(\"data/figure_7/error_absr\", error_absr)\n",
    "np.save(\"data/figure_7/error_fullr\", error_fullr)"
   ]
  },
  {
   "cell_type": "code",
   "execution_count": null,
   "metadata": {},
   "outputs": [],
   "source": [
    "error_FAr = np.load(\"data/figure_7/error_FAr.npy\",allow_pickle=True)\n",
    "error_wLSr = np.load(\"data/figure_7/error_wLSr.npy\",allow_pickle=True)\n",
    "error_absr = np.load(\"data/figure_7/error_absr.npy\",allow_pickle=True)\n",
    "error_fullr = np.load(\"data/figure_7/error_fullr.npy\",allow_pickle=True)"
   ]
  },
  {
   "cell_type": "code",
   "execution_count": null,
   "metadata": {},
   "outputs": [],
   "source": [
    "fig, axes = plt.subplots(1,4, figsize=(9,3.5), sharey = True)\n",
    "plt.subplots_adjust(wspace=.1, hspace=.1,bottom=0.25)\n",
    "\n",
    "for i in np.arange(4):\n",
    "        axes[i].plot(error_FAr[i], ls='None', ms=4, marker = 'o', label = 'Lanczos-FA error')\n",
    "        axes[i].plot(error_absr[i], ls='None', ms=4, marker = 'd', label = 'triangle inequality')\n",
    "        axes[i].plot(error_fullr[i]*error_wLSr[i], ls='None', ms=4, marker = 's', label = 'computable bound')\n",
    "        handles, labels = axes[i].get_legend_handles_labels()\n",
    "        plt.yscale('log')\n",
    "        axes[i].text(.95,.95,\"b = \" + str(b[i]),ha='right', va='top', transform=axes[i].transAxes,bbox=dict(facecolor='white',edgecolor='none',pad=2))\n",
    "        axes[i].set_xlabel('Iteration')\n",
    "        axes[i].set_xticks([0, K[i]//2, K[i]])\n",
    "\n",
    "axes[0].set_ylabel('Error')\n",
    "\n",
    "plt.figlegend(handles, labels, loc='lower center', bbox_to_anchor=(0.5,0),ncol=4)\n",
    "\n",
    "plt.savefig(\"imgs/figure_7.pdf\")"
   ]
  }
 ],
 "metadata": {
  "kernelspec": {
   "display_name": "Python 3 (ipykernel)",
   "language": "python",
   "name": "python3"
  },
  "language_info": {
   "codemirror_mode": {
    "name": "ipython",
    "version": 3
   },
   "file_extension": ".py",
   "mimetype": "text/x-python",
   "name": "python",
   "nbconvert_exporter": "python",
   "pygments_lexer": "ipython3",
   "version": "3.9.13"
  }
 },
 "nbformat": 4,
 "nbformat_minor": 4
}
