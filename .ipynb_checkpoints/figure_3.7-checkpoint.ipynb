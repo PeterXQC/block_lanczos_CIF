{
 "cells": [
  {
   "cell_type": "code",
   "execution_count": 1,
   "metadata": {},
   "outputs": [],
   "source": [
    "from block_methods import *\n",
    "import numpy as np\n",
    "import scipy as sp\n",
    "import matplotlib.pyplot as plt\n",
    "import matplotlib as mpl\n",
    "from matplotlib import ticker, cm\n",
    "import matplotlib.colors as colors\n",
    "from scipy import integrate\n",
    "\n",
    "%load_ext autoreload\n",
    "%autoreload 2"
   ]
  },
  {
   "cell_type": "code",
   "execution_count": 2,
   "metadata": {},
   "outputs": [],
   "source": [
    "plt.rc('text', usetex=True)\n",
    "plt.rc('font', family='serif')\n",
    "plt.rcParams[\"axes.prop_cycle\"] = plt.cycler(\"color\", plt.cm.viridis([0, 0.6, 0.8]))"
   ]
  },
  {
   "cell_type": "code",
   "execution_count": 3,
   "metadata": {},
   "outputs": [],
   "source": [
    "b = [1, 2, 4, 8] # block size\n",
    "step = 5\n",
    "thresh = 1e-4\n",
    "\n",
    "# set up matrix\n",
    "Λ = np.linspace(1e-2,1,1000)\n",
    "H = np.diag(Λ)\n",
    "λmin = np.min(Λ)\n",
    "λmax = np.max(Λ)\n",
    "\n",
    "n = len(Λ)\n",
    "K = [80,80,80,60]\n",
    "w = 0\n",
    "\n",
    "def f(x):\n",
    "    return 1/np.sqrt(x)\n",
    "\n",
    "angles = 0.5*np.pi # angle for D contour\n",
    "r = 2*(λmax) # radius for D contour\n",
    "lim = 10\n",
    "np.random.seed(10)\n",
    "\n",
    "hnorm = get_hnorm(Λ, lambda Λ: Λ-w)"
   ]
  },
  {
   "cell_type": "code",
   "execution_count": 4,
   "metadata": {},
   "outputs": [],
   "source": [
    "error_FAr = []\n",
    "res_wLSr = []\n",
    "error_absr = []\n",
    "error_fullr = []\n",
    "\n",
    "for i in range(len(b)):\n",
    "    V = np.random.randn(n,b[i])\n",
    "    # run Lanczos\n",
    "    Q,Qkp1,A,B,B_0 = block_lanczos(H, V, K[i], K[i]+1)\n",
    "\n",
    "    # generate tridiagonal matrix\n",
    "    T = get_block_tridiag(A,B)\n",
    "    \n",
    "    orthTest(Q, b[i], K[i], 1e-4)\n",
    "    threeTermTest(H, Q, T, Qkp1, B, b[i], K[i], 1e-4)\n",
    "\n",
    "    VfAV = V.T@np.diag(f(Λ))@V\n",
    "    \n",
    "    error_FA = np.full(K[i],np.nan)\n",
    "    res_wLS = np.full(K[i],np.nan)\n",
    "    error_abs = np.full(K[i],np.nan)\n",
    "    error_full = np.full(K[i],np.nan)\n",
    "\n",
    "    for k in np.linspace(1, K[i]-1, 10, dtype = int): \n",
    "\n",
    "        T = get_block_tridiag(A[:k],B[:k])\n",
    "        Eval,Evec = np.linalg.eigh(T)\n",
    "        \n",
    "        res_wLS[k] = np.linalg.norm(V - np.diag(Λ-w)@get_lan_wLS(Eval, Evec, b[i], B_0, w, Q, k),ord=2)\n",
    "\n",
    "        Vlanf = (Evec.T@Ei(b[i]*k,b[i],1)@B_0).T@np.diag(f(Eval))@(Evec.T@Ei(b[i]*k,b[i],1)@B_0)\n",
    "        error_FA[k] = np.linalg.norm(VfAV - Vlanf,ord=2)\n",
    "        \n",
    "        pts = np.logspace(-15, -1, lim)\n",
    "        error_abs[k] = trig_ineq_quad_bound(pts, angles, r, Eval, Evec, b[i], B_0, λmin, f, w, Λ, V, Q, k)\n",
    "        error_full[k] = quad_bound(pts, angles, r, Eval, Evec, b[i], B_0, λmin, f, w, w, λmax)\n",
    "\n",
    "    error_FAr.append(error_FA)\n",
    "    res_wLSr.append(res_wLS)\n",
    "    error_absr.append(error_abs)\n",
    "    error_fullr.append(error_full)"
   ]
  },
  {
   "cell_type": "code",
   "execution_count": 5,
   "metadata": {},
   "outputs": [
    {
     "name": "stderr",
     "output_type": "stream",
     "text": [
      "/opt/conda/lib/python3.9/site-packages/numpy/lib/npyio.py:528: VisibleDeprecationWarning: Creating an ndarray from ragged nested sequences (which is a list-or-tuple of lists-or-tuples-or ndarrays with different lengths or shapes) is deprecated. If you meant to do this, you must specify 'dtype=object' when creating the ndarray.\n",
      "  arr = np.asanyarray(arr)\n"
     ]
    }
   ],
   "source": [
    "np.save(\"data/figure_3.7/error_FAr\", error_FAr)\n",
    "np.save(\"data/figure_3.7/res_wLSr\", res_wLSr)\n",
    "np.save(\"data/figure_3.7/error_absr\", error_absr)\n",
    "np.save(\"data/figure_3.7/error_fullr\", error_fullr)"
   ]
  },
  {
   "cell_type": "markdown",
   "metadata": {},
   "source": [
    "# Uncomment the cell below to generate figures directly from data. "
   ]
  },
  {
   "cell_type": "code",
   "execution_count": 6,
   "metadata": {},
   "outputs": [],
   "source": [
    "# error_FAr = np.load(\"data/figure_3.7/error_FAr.npy\",allow_pickle=True)\n",
    "# error_wLSr = np.load(\"data/figure_3.7/res_wLSr.npy\",allow_pickle=True)\n",
    "# error_absr = np.load(\"data/figure_3.7/error_absr.npy\",allow_pickle=True)\n",
    "# error_fullr = np.load(\"data/figure_3.7/error_fullr.npy\",allow_pickle=True)"
   ]
  },
  {
   "cell_type": "code",
   "execution_count": 7,
   "metadata": {},
   "outputs": [
    {
     "data": {
      "image/png": "[encoded data removed]",
      "text/plain": [
       "<Figure size 900x350 with 4 Axes>"
      ]
     },
     "metadata": {},
     "output_type": "display_data"
    }
   ],
   "source": [
    "fig, axes = plt.subplots(1,4, figsize=(9,3.5), sharey = True)\n",
    "plt.subplots_adjust(wspace=.1, hspace=.1,bottom=0.25)\n",
    "\n",
    "for i in np.arange(4):\n",
    "        axes[i].plot(error_FAr[i], ls='None', ms=4, marker = 's', label = 'Lanczos-FA error')\n",
    "        axes[i].plot(error_absr[i], ls='None', ms=4, marker = 'd', label = 'triangle inequality')\n",
    "        axes[i].plot(error_fullr[i]*res_wLSr[i]**2, ls='None', ms=4, marker = 'o', label = 'computable bound')\n",
    "        handles, labels = axes[i].get_legend_handles_labels()\n",
    "        plt.yscale('log')\n",
    "        axes[i].text(.95,.95,f\"$b = {b[i]}$\",ha='right', va='top', transform=axes[i].transAxes,bbox=dict(facecolor='white',edgecolor='none',pad=2))\n",
    "        axes[i].set_xlabel('Iteration')\n",
    "        axes[i].set_xticks([0, K[i]//2, K[i]])\n",
    "\n",
    "axes[0].set_ylabel('Error')\n",
    "\n",
    "plt.figlegend(handles, labels, loc='lower center', bbox_to_anchor=(0.5,0),ncol=4)\n",
    "\n",
    "plt.savefig(\"imgs/figure_3.7.pdf\")"
   ]
  }
 ],
 "metadata": {
  "kernelspec": {
   "display_name": "Python 3 (ipykernel)",
   "language": "python",
   "name": "python3"
  },
  "language_info": {
   "codemirror_mode": {
    "name": "ipython",
    "version": 3
   },
   "file_extension": ".py",
   "mimetype": "text/x-python",
   "name": "python",
   "nbconvert_exporter": "python",
   "pygments_lexer": "ipython3",
   "version": "3.9.13"
  }
 },
 "nbformat": 4,
 "nbformat_minor": 4
}
