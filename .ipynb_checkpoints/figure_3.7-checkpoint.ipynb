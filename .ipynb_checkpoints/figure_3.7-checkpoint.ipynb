{
 "cells": [
  {
   "cell_type": "code",
   "execution_count": 1,
   "metadata": {},
   "outputs": [],
   "source": [
    "from block_methods import *\n",
    "import numpy as np\n",
    "import scipy as sp\n",
    "import matplotlib.pyplot as plt\n",
    "import matplotlib as mpl\n",
    "from matplotlib import ticker, cm\n",
    "import matplotlib.colors as colors\n",
    "from scipy import integrate\n",
    "\n",
    "%load_ext autoreload\n",
    "%autoreload 2"
   ]
  },
  {
   "cell_type": "code",
   "execution_count": null,
   "metadata": {},
   "outputs": [],
   "source": [
    "plt.rc('text', usetex=True)\n",
    "plt.rc('font', family='serif')\n",
    "plt.rcParams[\"axes.prop_cycle\"] = plt.cycler(\"color\", plt.cm.viridis([0, 0.6, 0.8]))"
   ]
  },
  {
   "cell_type": "code",
   "execution_count": 104,
   "metadata": {},
   "outputs": [
    {
     "data": {
      "text/plain": [
       "[<matplotlib.lines.Line2D at 0x7f5916c4bd60>]"
      ]
     },
     "execution_count": 104,
     "metadata": {},
     "output_type": "execute_result"
    },
    {
     "data": {
      "image/png": "[encoded data removed]",
      "text/plain": [
       "<Figure size 432x288 with 1 Axes>"
      ]
     },
     "metadata": {
      "needs_background": "light"
     },
     "output_type": "display_data"
    }
   ],
   "source": [
    "b = [1, 2, 4, 8] # block size\n",
    "step = 5\n",
    "thresh = 1e-4\n",
    "\n",
    "# set up matrix\n",
    "Λ = np.linspace(1e-2,1,1000)\n",
    "H = np.diag(Λ)\n",
    "λmin = np.min(Λ)\n",
    "λmax = np.max(Λ)\n",
    "\n",
    "n = len(Λ)\n",
    "K = [80,80,80,60]\n",
    "w = 0\n",
    "\n",
    "def f(x):\n",
    "    return 1/np.sqrt(x)\n",
    "\n",
    "angles = 0.5*np.pi # angle for D contour\n",
    "r = 2*(λmax) # radius for D contour\n",
    "lim = 10\n",
    "np.random.seed(10)"
   ]
  },
  {
   "cell_type": "code",
   "execution_count": 113,
   "metadata": {},
   "outputs": [
    {
     "name": "stdout",
     "output_type": "stream",
     "text": [
      "b = 1\n",
      "Orthogonality Test:  2.1094237467877974e-15\n",
      "Three-Term Recurrence Test: 6.218415685526771e-16\n",
      "Points to be plotted:  [ 1  9 18 27 35 44 53 61 70 79]\n",
      "b = 2\n",
      "Orthogonality Test:  2.55351295663786e-15\n",
      "Three-Term Recurrence Test: 8.238252625227079e-16\n",
      "Points to be plotted:  [ 1  9 18 27 35 44 53 61 70 79]\n",
      "b = 4\n",
      "Orthogonality Test:  2.9976021664879227e-15\n",
      "Three-Term Recurrence Test: 7.474618032061676e-16\n",
      "Points to be plotted:  [ 1  9 18 27 35 44 53 61 70 79]\n"
     ]
    },
    {
     "name": "stderr",
     "output_type": "stream",
     "text": [
      "/tmp/ipykernel_314351/3636137159.py:51: IntegrationWarning: The maximum number of subdivisions (50) has been achieved.\n",
      "  If increasing the limit yields no improvement it is advised to analyze \n",
      "  the integrand in order to determine the difficulties.  If the position of a \n",
      "  local difficulty can be determined (singularity, discontinuity) one will \n",
      "  probably gain from splitting up the interval and calling the integrator \n",
      "  on the subranges.  Perhaps a special-purpose integrator should be used.\n",
      "  error_full[k] += sp.integrate.quad(F_full, 0, 1, args=(Γl, angles, r, b[i]), points = pts)[0]\n"
     ]
    },
    {
     "name": "stdout",
     "output_type": "stream",
     "text": [
      "b = 8\n",
      "Orthogonality Test:  3.0531133177191805e-15\n",
      "Three-Term Recurrence Test: 1.0809955473064942e-15\n",
      "Points to be plotted:  [ 1  7 13 20 26 33 39 46 52 59]\n"
     ]
    }
   ],
   "source": [
    "error_FAr = []\n",
    "res_wLSr = []\n",
    "error_absr = []\n",
    "error_fullr = []\n",
    "\n",
    "for i in range(len(b)):\n",
    "    V = np.random.randn(n,b[i])\n",
    "    # run Lanczos\n",
    "    Q,Qkp1,A,B,B_0 = BM.block_lanczos(H, V, K[i], K[i]+1)\n",
    "\n",
    "    # generate tridiagonal matrix\n",
    "    T = BM.get_block_tridiag(A,B)\n",
    "    \n",
    "    BM.orthTest(Q, b[i], K[i])\n",
    "    BM.threeTermTest(H, Q, T, Qkp1, B, b[i], K[i])\n",
    "\n",
    "    VfAV = V.T@np.diag(f(Λ))@V\n",
    "    \n",
    "    error_FA = np.full(K[i],np.nan)\n",
    "    res_wLS = np.full(K[i],np.nan)\n",
    "    error_abs = np.full(K[i],np.nan)\n",
    "    error_full = np.full(K[i],np.nan)\n",
    "\n",
    "    for k in np.linspace(1, K[i]-1, 10, dtype = int): \n",
    "\n",
    "        T = BM.get_block_tridiag(A[:k],B[:k])\n",
    "        Eval,Evec = np.linalg.eigh(T)\n",
    "\n",
    "        lan_wLS = Q[:,:b[i]*k]@(Evec@np.diag(1/(Eval-w))@Evec.T@BM.Ei(b[i]*k,b[i],1)@B_0)\n",
    "\n",
    "        res_wLS[k] = np.linalg.norm(V - np.diag(Λ-w)@lan_wLS,ord=2)\n",
    "\n",
    "        \n",
    "        Vlanf = (Evec.T@BM.Ei(b[i]*k,b[i],1)@B_0).T@np.diag(f(Eval))@(Evec.T@BM.Ei(b[i]*k,b[i],1)@B_0)\n",
    "        error_FA[k] = np.linalg.norm(VfAV - Vlanf,ord=2)\n",
    "        \n",
    "        pts = np.logspace(-15, -1, lim)\n",
    "        error_abs[k] = get_trig_ineq_bound(pts, angles, r, Eval, Evec, b[i]b, B_0, λmin, f, Λ, V, Q, k)\n",
    "        error_full[k] = get_a_posteriori_bound(pts, angles, r, Eval, Evec, b[i], B_0, λmin, f, w, λmax)\n",
    "\n",
    "    error_FAr.append(error_FA)\n",
    "    res_wLSr.append(res_wLS)\n",
    "    error_absr.append(error_abs)\n",
    "    error_fullr.append(error_full)"
   ]
  },
  {
   "cell_type": "code",
   "execution_count": 109,
   "metadata": {},
   "outputs": [
    {
     "name": "stderr",
     "output_type": "stream",
     "text": [
      "/home/tyler/anaconda3/lib/python3.9/site-packages/numpy/lib/npyio.py:528: VisibleDeprecationWarning: Creating an ndarray from ragged nested sequences (which is a list-or-tuple of lists-or-tuples-or ndarrays with different lengths or shapes) is deprecated. If you meant to do this, you must specify 'dtype=object' when creating the ndarray.\n",
      "  arr = np.asanyarray(arr)\n"
     ]
    },
    {
     "ename": "NameError",
     "evalue": "name 'error_wLSr' is not defined",
     "output_type": "error",
     "traceback": [
      "\u001b[0;31m---------------------------------------------------------------------------\u001b[0m",
      "\u001b[0;31mNameError\u001b[0m                                 Traceback (most recent call last)",
      "Input \u001b[0;32mIn [109]\u001b[0m, in \u001b[0;36m<cell line: 2>\u001b[0;34m()\u001b[0m\n\u001b[1;32m      1\u001b[0m np\u001b[38;5;241m.\u001b[39msave(\u001b[38;5;124m\"\u001b[39m\u001b[38;5;124merror_FAr\u001b[39m\u001b[38;5;124m\"\u001b[39m, error_FAr)\n\u001b[0;32m----> 2\u001b[0m np\u001b[38;5;241m.\u001b[39msave(\u001b[38;5;124m\"\u001b[39m\u001b[38;5;124merror_wLSr\u001b[39m\u001b[38;5;124m\"\u001b[39m, \u001b[43merror_wLSr\u001b[49m)\n\u001b[1;32m      3\u001b[0m np\u001b[38;5;241m.\u001b[39msave(\u001b[38;5;124m\"\u001b[39m\u001b[38;5;124merror_absr\u001b[39m\u001b[38;5;124m\"\u001b[39m, error_absr)\n\u001b[1;32m      4\u001b[0m np\u001b[38;5;241m.\u001b[39msave(\u001b[38;5;124m\"\u001b[39m\u001b[38;5;124merror_fullr\u001b[39m\u001b[38;5;124m\"\u001b[39m, error_fullr)\n",
      "\u001b[0;31mNameError\u001b[0m: name 'error_wLSr' is not defined"
     ]
    }
   ],
   "source": [
    "np.save(\"data/figure_7/error_FAr_fp\", error_FAr)\n",
    "np.save(\"data/figure_7/error_wLSr_fp\", error_wLSr)\n",
    "np.save(\"data/figure_7/error_absr_fp\", error_absr)\n",
    "np.save(\"data/figure_7/error_fullr_fp\", error_fullr)"
   ]
  },
  {
   "cell_type": "code",
   "execution_count": null,
   "metadata": {},
   "outputs": [],
   "source": [
    "error_FAr = np.load(\"data/figure_7/error_FAr_fp.npy\",allow_pickle=True)\n",
    "error_wLSr = np.load(\"data/figure_7/error_wLSr_fp.npy\",allow_pickle=True)\n",
    "error_absr = np.load(\"data/figure_7/error_absr_fp.npy\",allow_pickle=True)\n",
    "error_fullr = np.load(\"data/figure_7/error_fullr_fp.npy\",allow_pickle=True)"
   ]
  },
  {
   "cell_type": "code",
   "execution_count": 116,
   "metadata": {},
   "outputs": [
    {
     "data": {
      "image/png": "[encoded data removed]",
      "text/plain": [
       "<Figure size 648x252 with 4 Axes>"
      ]
     },
     "metadata": {
      "needs_background": "light"
     },
     "output_type": "display_data"
    }
   ],
   "source": [
    "fig, axes = plt.subplots(1,4, figsize=(9,3.5), sharey = True)\n",
    "plt.subplots_adjust(wspace=.1, hspace=.1,bottom=0.25)\n",
    "\n",
    "for i in np.arange(4):\n",
    "        axes[i].plot(error_FAr[i], ls='None', ms=4, marker = 'o', label = 'Lanczos-FA error')\n",
    "        axes[i].plot(error_absr[i], ls='None', ms=4, marker = 'd', label = 'triangle inequality')\n",
    "        axes[i].plot(error_fullr[i]*res_wLSr[i]**2, ls='None', ms=4, marker = 's', label = 'computable bound')\n",
    "        handles, labels = axes[i].get_legend_handles_labels()\n",
    "        plt.yscale('log')\n",
    "        axes[i].text(.95,.95,f\"$b = {b[i]}$\",ha='right', va='top', transform=axes[i].transAxes,bbox=dict(facecolor='white',edgecolor='none',pad=2))\n",
    "        axes[i].set_xlabel('Iteration')\n",
    "        axes[i].set_xticks([0, K[i]//2, K[i]])\n",
    "\n",
    "axes[0].set_ylabel('Error')\n",
    "\n",
    "plt.figlegend(handles, labels, loc='lower center', bbox_to_anchor=(0.5,0),ncol=4)\n",
    "\n",
    "plt.savefig(\"imgs/figure_6.pdf\")"
   ]
  },
  {
   "cell_type": "code",
   "execution_count": null,
   "metadata": {},
   "outputs": [],
   "source": []
  },
  {
   "cell_type": "code",
   "execution_count": null,
   "metadata": {},
   "outputs": [],
   "source": []
  }
 ],
 "metadata": {
  "kernelspec": {
   "display_name": "Python 3 (ipykernel)",
   "language": "python",
   "name": "python3"
  },
  "language_info": {
   "codemirror_mode": {
    "name": "ipython",
    "version": 3
   },
   "file_extension": ".py",
   "mimetype": "text/x-python",
   "name": "python",
   "nbconvert_exporter": "python",
   "pygments_lexer": "ipython3",
   "version": "3.9.13"
  }
 },
 "nbformat": 4,
 "nbformat_minor": 4
}
