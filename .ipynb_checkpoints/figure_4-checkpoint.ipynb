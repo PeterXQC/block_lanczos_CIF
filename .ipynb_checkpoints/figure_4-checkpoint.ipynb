{
 "cells": [
  {
   "cell_type": "code",
   "execution_count": 1,
   "metadata": {},
   "outputs": [],
   "source": [
    "from block_methods import *\n",
    "import numpy as np\n",
    "import scipy as sp\n",
    "import matplotlib.pyplot as plt\n",
    "import matplotlib as mpl\n",
    "from matplotlib import ticker, cm\n",
    "import matplotlib.colors as colors\n",
    "from scipy import integrate\n",
    "\n",
    "%load_ext autoreload\n",
    "%autoreload 2"
   ]
  },
  {
   "cell_type": "code",
   "execution_count": 2,
   "metadata": {},
   "outputs": [],
   "source": [
    "plt.rc('text', usetex=True)\n",
    "plt.rc('font', family='serif')"
   ]
  },
  {
   "cell_type": "code",
   "execution_count": 3,
   "metadata": {},
   "outputs": [],
   "source": [
    "n = 1000 # matrix dimension\n",
    "b = 4 # block size\n",
    "step = 5\n",
    "thresh = 1e-8\n",
    "\n",
    "# set up matrix\n",
    "Λ = np.linspace(1e-2,1,n)\n",
    "H = np.diag(Λ)\n",
    "\n",
    "λmin = np.min(Λ)\n",
    "λmax = np.max(Λ)\n",
    "\n",
    "f = lambda x: np.sqrt(x)\n",
    "\n",
    "K = 100 # max iter\n",
    "w = 0\n",
    "\n",
    "angles = np.array([0.01, 0.1, 0.5, 0.9])*np.pi # angle for D contour\n",
    "r = [1, 1.01, 1.05, 1.1] # radius for D contour\n",
    "lim = 10\n",
    "np.random.seed(0)"
   ]
  },
  {
   "cell_type": "code",
   "execution_count": 4,
   "metadata": {},
   "outputs": [
    {
     "ename": "NameError",
     "evalue": "name 'F_abs' is not defined",
     "output_type": "error",
     "traceback": [
      "\u001b[0;31m---------------------------------------------------------------------------\u001b[0m",
      "\u001b[0;31mNameError\u001b[0m                                 Traceback (most recent call last)",
      "\u001b[0;32m/tmp/ipykernel_1967/1801948095.py\u001b[0m in \u001b[0;36m<module>\u001b[0;34m\u001b[0m\n\u001b[1;32m     40\u001b[0m             \u001b[0merror_FA\u001b[0m\u001b[0;34m[\u001b[0m\u001b[0mk\u001b[0m\u001b[0;34m]\u001b[0m \u001b[0;34m=\u001b[0m \u001b[0mnp\u001b[0m\u001b[0;34m.\u001b[0m\u001b[0mlinalg\u001b[0m\u001b[0;34m.\u001b[0m\u001b[0mnorm\u001b[0m\u001b[0;34m(\u001b[0m\u001b[0mfAV\u001b[0m \u001b[0;34m-\u001b[0m \u001b[0mlanf\u001b[0m\u001b[0;34m)\u001b[0m\u001b[0;34m\u001b[0m\u001b[0;34m\u001b[0m\u001b[0m\n\u001b[1;32m     41\u001b[0m \u001b[0;34m\u001b[0m\u001b[0m\n\u001b[0;32m---> 42\u001b[0;31m             \u001b[0merror_abs\u001b[0m\u001b[0;34m[\u001b[0m\u001b[0mk\u001b[0m\u001b[0;34m]\u001b[0m \u001b[0;34m=\u001b[0m \u001b[0msp\u001b[0m\u001b[0;34m.\u001b[0m\u001b[0mintegrate\u001b[0m\u001b[0;34m.\u001b[0m\u001b[0mquad\u001b[0m\u001b[0;34m(\u001b[0m\u001b[0mF_abs\u001b[0m\u001b[0;34m,\u001b[0m \u001b[0;36m0\u001b[0m\u001b[0;34m,\u001b[0m \u001b[0mangles\u001b[0m\u001b[0;34m[\u001b[0m\u001b[0ml\u001b[0m\u001b[0;34m]\u001b[0m\u001b[0;34m,\u001b[0m \u001b[0margs\u001b[0m\u001b[0;34m=\u001b[0m\u001b[0;34m(\u001b[0m\u001b[0mΓ\u001b[0m\u001b[0;34m,\u001b[0m \u001b[0mangles\u001b[0m\u001b[0;34m[\u001b[0m\u001b[0ml\u001b[0m\u001b[0;34m]\u001b[0m\u001b[0;34m,\u001b[0m \u001b[0mr\u001b[0m\u001b[0;34m[\u001b[0m\u001b[0mi\u001b[0m\u001b[0;34m]\u001b[0m\u001b[0;34m,\u001b[0m \u001b[0mEval\u001b[0m\u001b[0;34m,\u001b[0m \u001b[0mEvec\u001b[0m\u001b[0;34m,\u001b[0m \u001b[0mb\u001b[0m\u001b[0;34m,\u001b[0m \u001b[0mB_0\u001b[0m\u001b[0;34m,\u001b[0m \u001b[0mλmin\u001b[0m\u001b[0;34m,\u001b[0m \u001b[0mf\u001b[0m\u001b[0;34m,\u001b[0m \u001b[0mΛ\u001b[0m\u001b[0;34m,\u001b[0m \u001b[0mV\u001b[0m\u001b[0;34m,\u001b[0m \u001b[0mQ\u001b[0m\u001b[0;34m,\u001b[0m \u001b[0mk\u001b[0m\u001b[0;34m)\u001b[0m\u001b[0;34m)\u001b[0m\u001b[0;34m[\u001b[0m\u001b[0;36m0\u001b[0m\u001b[0;34m]\u001b[0m\u001b[0;34m\u001b[0m\u001b[0;34m\u001b[0m\u001b[0m\n\u001b[0m\u001b[1;32m     43\u001b[0m             \u001b[0merror_full\u001b[0m\u001b[0;34m[\u001b[0m\u001b[0mk\u001b[0m\u001b[0;34m]\u001b[0m \u001b[0;34m=\u001b[0m \u001b[0msp\u001b[0m\u001b[0;34m.\u001b[0m\u001b[0mintegrate\u001b[0m\u001b[0;34m.\u001b[0m\u001b[0mquad\u001b[0m\u001b[0;34m(\u001b[0m\u001b[0mF_full\u001b[0m\u001b[0;34m,\u001b[0m\u001b[0;36m0\u001b[0m\u001b[0;34m,\u001b[0m \u001b[0mangles\u001b[0m\u001b[0;34m[\u001b[0m\u001b[0ml\u001b[0m\u001b[0;34m]\u001b[0m\u001b[0;34m,\u001b[0m \u001b[0margs\u001b[0m\u001b[0;34m=\u001b[0m\u001b[0;34m(\u001b[0m\u001b[0mΓ\u001b[0m\u001b[0;34m,\u001b[0m \u001b[0mangles\u001b[0m\u001b[0;34m[\u001b[0m\u001b[0ml\u001b[0m\u001b[0;34m]\u001b[0m\u001b[0;34m,\u001b[0m \u001b[0mr\u001b[0m\u001b[0;34m[\u001b[0m\u001b[0mi\u001b[0m\u001b[0;34m]\u001b[0m\u001b[0;34m,\u001b[0m \u001b[0mEval\u001b[0m\u001b[0;34m,\u001b[0m \u001b[0mEvec\u001b[0m\u001b[0;34m,\u001b[0m \u001b[0mb\u001b[0m\u001b[0;34m,\u001b[0m \u001b[0mB_0\u001b[0m\u001b[0;34m,\u001b[0m \u001b[0mλmin\u001b[0m\u001b[0;34m,\u001b[0m \u001b[0mf\u001b[0m\u001b[0;34m,\u001b[0m \u001b[0mw\u001b[0m\u001b[0;34m,\u001b[0m \u001b[0mλmax\u001b[0m\u001b[0;34m)\u001b[0m\u001b[0;34m)\u001b[0m\u001b[0;34m[\u001b[0m\u001b[0;36m0\u001b[0m\u001b[0;34m]\u001b[0m\u001b[0;34m\u001b[0m\u001b[0;34m\u001b[0m\u001b[0m\n\u001b[1;32m     44\u001b[0m \u001b[0;34m\u001b[0m\u001b[0m\n",
      "\u001b[0;31mNameError\u001b[0m: name 'F_abs' is not defined"
     ]
    }
   ],
   "source": [
    "error_FAr = []\n",
    "error_wLSr = []\n",
    "error_absr = []\n",
    "error_fullr = []\n",
    "\n",
    "V = np.random.randn(n,b)\n",
    "\n",
    "# run Lanczos\n",
    "Q,Qkp1,A,B,B_0 = block_lanczos(H, V, K, K+1)\n",
    "\n",
    "# generate tridiagonal matrix\n",
    "T = get_block_tridiag(A,B)\n",
    "\n",
    "orthTest(Q, b, K, thresh)\n",
    "threeTermTest(H, Q, T, Qkp1, B, b, K, thresh)\n",
    "\n",
    "fAV = np.diag(f(Λ))@V\n",
    "for i in range(len(r)):\n",
    "    for l in range(len(angles)):\n",
    "        error_FA = np.full(K,np.nan)\n",
    "        error_wLS = np.full(K,np.nan)\n",
    "        error_abs = np.full(K,np.nan)\n",
    "        error_full = np.full(K,np.nan)\n",
    "\n",
    "        lsT = np.full(K//step,0, dtype = float)\n",
    "        FAT = np.full(K//step,0, dtype = float)\n",
    "        absT = np.full(K//step,0, dtype = float)\n",
    "        fullT = np.full(K//step,0, dtype = float)\n",
    "\n",
    "        for k in range(1,K,step): \n",
    "\n",
    "            T = get_block_tridiag(A[:k],B[:k])\n",
    "            Eval,Evec = np.linalg.eigh(T)\n",
    "\n",
    "            lan_wLS = Q[:,:b*k]@(Evec@np.diag(1/(Eval-w))@Evec.T@Ei(b*k,b,1)@B_0)\n",
    "\n",
    "            error_wLS[k] = np.linalg.norm(np.diag(1/(Λ-w))@V - lan_wLS)\n",
    "\n",
    "            lanf = Q[:,:b*k]@(Evec@np.diag(f(Eval))@Evec.T@Ei(b*k,b,1)@B_0)\n",
    "            error_FA[k] = np.linalg.norm(fAV - lanf)\n",
    "            \n",
    "            pts = np.logspace(-15, -1, lim)\n",
    "            \n",
    "            error_abs[k] = get_trig_ineq_bound(pts, angles[l], r[i], Eval, Evec, b, B_0, λmin, f, Λ, V, Q, k)\n",
    "            error_full[k] = get_a_posteriori_bound(pts, angles[l], r[i], Eval, Evec, b, B_0, λmin, f, w, λmax):\n",
    "\n",
    "#             error_abs[k] = sp.integrate.quad(trig_ineq_bound, 0, angles[l], args=(Γ, angles[l], r[i], Eval, Evec, b, B_0, λmin, f, Λ, V, Q, k))[0]\n",
    "#             error_full[k] = sp.integrate.quad(a_posteriori_bound,0, angles[l], args=(Γ, angles[l], r[i], Eval, Evec, b, B_0, λmin, f, w, λmax))[0]\n",
    "            \n",
    "            \n",
    "#             error_abs[k] += sp.integrate.quad(trig_ineq_bound, 0, 1, args=(Γl, angles[l], r[i], Eval, Evec, b, B_0, λmin, f, Λ, V, Q, k), points = pts)[0]\n",
    "#             error_full[k] += sp.integrate.quad(a_posteriori_bound, 0, 1, args=(Γl, angles[l], r[i], Eval, Evec, b, B_0, λmin, f, w, λmax), points = pts)[0]\n",
    "\n",
    "#             error_abs[k] /= np.pi\n",
    "#             error_full[k] /= np.pi\n",
    "\n",
    "        error_FAr.append(error_FA)\n",
    "        error_wLSr.append(error_wLS)\n",
    "        error_absr.append(error_abs)\n",
    "        error_fullr.append(error_full)"
   ]
  },
  {
   "cell_type": "code",
   "execution_count": null,
   "metadata": {},
   "outputs": [],
   "source": [
    "np.save(\"data/figure_4/error_FAr\", error_FAr)\n",
    "np.save(\"data/figure_4/error_wLSr\", error_wLSr)\n",
    "np.save(\"data/figure_4/error_absr\", error_absr)\n",
    "np.save(\"data/figure_4/error_fullr\", error_fullr)"
   ]
  },
  {
   "cell_type": "code",
   "execution_count": null,
   "metadata": {},
   "outputs": [],
   "source": [
    "error_FAr = np.load(\"data/figure_4/error_FAr.npy\")\n",
    "error_wLSr = np.load(\"data/figure_4/error_wLSr.npy\")\n",
    "error_absr = np.load(\"data/figure_4/error_absr.npy\")\n",
    "error_fullr = np.load(\"data/figure_4/error_fullr.npy\")"
   ]
  },
  {
   "cell_type": "code",
   "execution_count": null,
   "metadata": {},
   "outputs": [],
   "source": [
    "fig, axes = plt.subplots(len(r), len(angles), figsize=(9,9), sharex=True, sharey=True)\n",
    "\n",
    "plt.subplots_adjust(wspace=.1, hspace=.1)\n",
    "\n",
    "for i in np.arange(len(r)):\n",
    "    for j in np.arange(len(angles)):\n",
    "        axes[i, j].plot(error_FAr[i*len(angles)+j], ls='None', ms=4, marker = 'o', label = 'Lanczos-FA error')\n",
    "        axes[i, j].plot(error_absr[i*len(angles)+j], ls='None',ms=4, marker = 'd', label = 'triangle inequality')\n",
    "        axes[i, j].plot(error_fullr[i*len(angles)+j]*error_wLSr[i*len(angles)+j], ls='None',ms=4, marker = 's', label = 'computable bound')\n",
    "        handles, labels = axes[i, j].get_legend_handles_labels()\n",
    "        plt.yscale('log')\n",
    "        \n",
    "        axes[i, j].text(.95,.95,f'$\\\\Theta={angles[j]/np.pi:1.2f}\\\\pi, R={r[i]:1.2f}$',ha='right', va='top', transform=axes[i, j].transAxes,bbox=dict(facecolor='white',edgecolor='none',pad=2))\n",
    "\n",
    "plt.setp(axes[-1, :], xlabel='Iteration')\n",
    "plt.setp(axes[:, 0], ylabel='Error')\n",
    " \n",
    "plt.figlegend(handles, labels, loc='lower center', bbox_to_anchor=(0.5, 0),ncol=3)\n",
    "\n",
    "plt.savefig(\"imgs/figure_4.pdf\")"
   ]
  }
 ],
 "metadata": {
  "kernelspec": {
   "display_name": "Python 3 (ipykernel)",
   "language": "python",
   "name": "python3"
  },
  "language_info": {
   "codemirror_mode": {
    "name": "ipython",
    "version": 3
   },
   "file_extension": ".py",
   "mimetype": "text/x-python",
   "name": "python",
   "nbconvert_exporter": "python",
   "pygments_lexer": "ipython3",
   "version": "3.9.13"
  }
 },
 "nbformat": 4,
 "nbformat_minor": 4
}
